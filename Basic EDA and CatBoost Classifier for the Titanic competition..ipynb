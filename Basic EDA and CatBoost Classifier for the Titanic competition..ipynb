{
 "cells": [
  {
   "cell_type": "code",
   "execution_count": 307,
   "id": "953ac70a",
   "metadata": {},
   "outputs": [],
   "source": [
    "import pandas as pd\n",
    "import numpy as np\n",
    "import matplotlib.pyplot as plt\n",
    "import seaborn as sns\n",
    "import warnings\n",
    "import catboost as ctb\n",
    "\n",
    "from sklearn.pipeline import Pipeline\n",
    "from sklearn.preprocessing import StandardScaler\n",
    "from sklearn.model_selection import train_test_split\n",
    "from sklearn.model_selection import GridSearchCV\n",
    "\n",
    "from sklearn.compose import ColumnTransformer\n",
    "from sklearn.preprocessing import OneHotEncoder\n",
    "from sklearn import metrics"
   ]
  },
  {
   "cell_type": "code",
   "execution_count": 308,
   "id": "43909d06",
   "metadata": {},
   "outputs": [],
   "source": [
    "warnings.filterwarnings('ignore')"
   ]
  },
  {
   "cell_type": "code",
   "execution_count": 309,
   "id": "29f2efab",
   "metadata": {},
   "outputs": [],
   "source": [
    "sns.set_theme(style=\"whitegrid\", palette=\"pastel\")"
   ]
  },
  {
   "cell_type": "code",
   "execution_count": 310,
   "id": "b7a3b136",
   "metadata": {},
   "outputs": [],
   "source": [
    "train = pd.read_csv(\"train.csv\")\n",
    "test = pd.read_csv(\"test.csv\")"
   ]
  },
  {
   "cell_type": "code",
   "execution_count": 311,
   "id": "b785041f",
   "metadata": {},
   "outputs": [
    {
     "data": {
      "text/html": [
       "<div>\n",
       "<style scoped>\n",
       "    .dataframe tbody tr th:only-of-type {\n",
       "        vertical-align: middle;\n",
       "    }\n",
       "\n",
       "    .dataframe tbody tr th {\n",
       "        vertical-align: top;\n",
       "    }\n",
       "\n",
       "    .dataframe thead th {\n",
       "        text-align: right;\n",
       "    }\n",
       "</style>\n",
       "<table border=\"1\" class=\"dataframe\">\n",
       "  <thead>\n",
       "    <tr style=\"text-align: right;\">\n",
       "      <th></th>\n",
       "      <th>PassengerId</th>\n",
       "      <th>Survived</th>\n",
       "      <th>Pclass</th>\n",
       "      <th>Name</th>\n",
       "      <th>Sex</th>\n",
       "      <th>Age</th>\n",
       "      <th>SibSp</th>\n",
       "      <th>Parch</th>\n",
       "      <th>Ticket</th>\n",
       "      <th>Fare</th>\n",
       "      <th>Cabin</th>\n",
       "      <th>Embarked</th>\n",
       "    </tr>\n",
       "  </thead>\n",
       "  <tbody>\n",
       "    <tr>\n",
       "      <th>0</th>\n",
       "      <td>1</td>\n",
       "      <td>0</td>\n",
       "      <td>3</td>\n",
       "      <td>Braund, Mr. Owen Harris</td>\n",
       "      <td>male</td>\n",
       "      <td>22.0</td>\n",
       "      <td>1</td>\n",
       "      <td>0</td>\n",
       "      <td>A/5 21171</td>\n",
       "      <td>7.2500</td>\n",
       "      <td>NaN</td>\n",
       "      <td>S</td>\n",
       "    </tr>\n",
       "    <tr>\n",
       "      <th>1</th>\n",
       "      <td>2</td>\n",
       "      <td>1</td>\n",
       "      <td>1</td>\n",
       "      <td>Cumings, Mrs. John Bradley (Florence Briggs Th...</td>\n",
       "      <td>female</td>\n",
       "      <td>38.0</td>\n",
       "      <td>1</td>\n",
       "      <td>0</td>\n",
       "      <td>PC 17599</td>\n",
       "      <td>71.2833</td>\n",
       "      <td>C85</td>\n",
       "      <td>C</td>\n",
       "    </tr>\n",
       "    <tr>\n",
       "      <th>2</th>\n",
       "      <td>3</td>\n",
       "      <td>1</td>\n",
       "      <td>3</td>\n",
       "      <td>Heikkinen, Miss. Laina</td>\n",
       "      <td>female</td>\n",
       "      <td>26.0</td>\n",
       "      <td>0</td>\n",
       "      <td>0</td>\n",
       "      <td>STON/O2. 3101282</td>\n",
       "      <td>7.9250</td>\n",
       "      <td>NaN</td>\n",
       "      <td>S</td>\n",
       "    </tr>\n",
       "    <tr>\n",
       "      <th>3</th>\n",
       "      <td>4</td>\n",
       "      <td>1</td>\n",
       "      <td>1</td>\n",
       "      <td>Futrelle, Mrs. Jacques Heath (Lily May Peel)</td>\n",
       "      <td>female</td>\n",
       "      <td>35.0</td>\n",
       "      <td>1</td>\n",
       "      <td>0</td>\n",
       "      <td>113803</td>\n",
       "      <td>53.1000</td>\n",
       "      <td>C123</td>\n",
       "      <td>S</td>\n",
       "    </tr>\n",
       "    <tr>\n",
       "      <th>4</th>\n",
       "      <td>5</td>\n",
       "      <td>0</td>\n",
       "      <td>3</td>\n",
       "      <td>Allen, Mr. William Henry</td>\n",
       "      <td>male</td>\n",
       "      <td>35.0</td>\n",
       "      <td>0</td>\n",
       "      <td>0</td>\n",
       "      <td>373450</td>\n",
       "      <td>8.0500</td>\n",
       "      <td>NaN</td>\n",
       "      <td>S</td>\n",
       "    </tr>\n",
       "  </tbody>\n",
       "</table>\n",
       "</div>"
      ],
      "text/plain": [
       "   PassengerId  Survived  Pclass  \\\n",
       "0            1         0       3   \n",
       "1            2         1       1   \n",
       "2            3         1       3   \n",
       "3            4         1       1   \n",
       "4            5         0       3   \n",
       "\n",
       "                                                Name     Sex   Age  SibSp  \\\n",
       "0                            Braund, Mr. Owen Harris    male  22.0      1   \n",
       "1  Cumings, Mrs. John Bradley (Florence Briggs Th...  female  38.0      1   \n",
       "2                             Heikkinen, Miss. Laina  female  26.0      0   \n",
       "3       Futrelle, Mrs. Jacques Heath (Lily May Peel)  female  35.0      1   \n",
       "4                           Allen, Mr. William Henry    male  35.0      0   \n",
       "\n",
       "   Parch            Ticket     Fare Cabin Embarked  \n",
       "0      0         A/5 21171   7.2500   NaN        S  \n",
       "1      0          PC 17599  71.2833   C85        C  \n",
       "2      0  STON/O2. 3101282   7.9250   NaN        S  \n",
       "3      0            113803  53.1000  C123        S  \n",
       "4      0            373450   8.0500   NaN        S  "
      ]
     },
     "execution_count": 311,
     "metadata": {},
     "output_type": "execute_result"
    }
   ],
   "source": [
    "train.head()"
   ]
  },
  {
   "cell_type": "code",
   "execution_count": 312,
   "id": "b158a72b",
   "metadata": {},
   "outputs": [
    {
     "data": {
      "text/html": [
       "<div>\n",
       "<style scoped>\n",
       "    .dataframe tbody tr th:only-of-type {\n",
       "        vertical-align: middle;\n",
       "    }\n",
       "\n",
       "    .dataframe tbody tr th {\n",
       "        vertical-align: top;\n",
       "    }\n",
       "\n",
       "    .dataframe thead th {\n",
       "        text-align: right;\n",
       "    }\n",
       "</style>\n",
       "<table border=\"1\" class=\"dataframe\">\n",
       "  <thead>\n",
       "    <tr style=\"text-align: right;\">\n",
       "      <th></th>\n",
       "      <th>PassengerId</th>\n",
       "      <th>Pclass</th>\n",
       "      <th>Name</th>\n",
       "      <th>Sex</th>\n",
       "      <th>Age</th>\n",
       "      <th>SibSp</th>\n",
       "      <th>Parch</th>\n",
       "      <th>Ticket</th>\n",
       "      <th>Fare</th>\n",
       "      <th>Cabin</th>\n",
       "      <th>Embarked</th>\n",
       "    </tr>\n",
       "  </thead>\n",
       "  <tbody>\n",
       "    <tr>\n",
       "      <th>0</th>\n",
       "      <td>892</td>\n",
       "      <td>3</td>\n",
       "      <td>Kelly, Mr. James</td>\n",
       "      <td>male</td>\n",
       "      <td>34.5</td>\n",
       "      <td>0</td>\n",
       "      <td>0</td>\n",
       "      <td>330911</td>\n",
       "      <td>7.8292</td>\n",
       "      <td>NaN</td>\n",
       "      <td>Q</td>\n",
       "    </tr>\n",
       "    <tr>\n",
       "      <th>1</th>\n",
       "      <td>893</td>\n",
       "      <td>3</td>\n",
       "      <td>Wilkes, Mrs. James (Ellen Needs)</td>\n",
       "      <td>female</td>\n",
       "      <td>47.0</td>\n",
       "      <td>1</td>\n",
       "      <td>0</td>\n",
       "      <td>363272</td>\n",
       "      <td>7.0000</td>\n",
       "      <td>NaN</td>\n",
       "      <td>S</td>\n",
       "    </tr>\n",
       "    <tr>\n",
       "      <th>2</th>\n",
       "      <td>894</td>\n",
       "      <td>2</td>\n",
       "      <td>Myles, Mr. Thomas Francis</td>\n",
       "      <td>male</td>\n",
       "      <td>62.0</td>\n",
       "      <td>0</td>\n",
       "      <td>0</td>\n",
       "      <td>240276</td>\n",
       "      <td>9.6875</td>\n",
       "      <td>NaN</td>\n",
       "      <td>Q</td>\n",
       "    </tr>\n",
       "    <tr>\n",
       "      <th>3</th>\n",
       "      <td>895</td>\n",
       "      <td>3</td>\n",
       "      <td>Wirz, Mr. Albert</td>\n",
       "      <td>male</td>\n",
       "      <td>27.0</td>\n",
       "      <td>0</td>\n",
       "      <td>0</td>\n",
       "      <td>315154</td>\n",
       "      <td>8.6625</td>\n",
       "      <td>NaN</td>\n",
       "      <td>S</td>\n",
       "    </tr>\n",
       "    <tr>\n",
       "      <th>4</th>\n",
       "      <td>896</td>\n",
       "      <td>3</td>\n",
       "      <td>Hirvonen, Mrs. Alexander (Helga E Lindqvist)</td>\n",
       "      <td>female</td>\n",
       "      <td>22.0</td>\n",
       "      <td>1</td>\n",
       "      <td>1</td>\n",
       "      <td>3101298</td>\n",
       "      <td>12.2875</td>\n",
       "      <td>NaN</td>\n",
       "      <td>S</td>\n",
       "    </tr>\n",
       "  </tbody>\n",
       "</table>\n",
       "</div>"
      ],
      "text/plain": [
       "   PassengerId  Pclass                                          Name     Sex  \\\n",
       "0          892       3                              Kelly, Mr. James    male   \n",
       "1          893       3              Wilkes, Mrs. James (Ellen Needs)  female   \n",
       "2          894       2                     Myles, Mr. Thomas Francis    male   \n",
       "3          895       3                              Wirz, Mr. Albert    male   \n",
       "4          896       3  Hirvonen, Mrs. Alexander (Helga E Lindqvist)  female   \n",
       "\n",
       "    Age  SibSp  Parch   Ticket     Fare Cabin Embarked  \n",
       "0  34.5      0      0   330911   7.8292   NaN        Q  \n",
       "1  47.0      1      0   363272   7.0000   NaN        S  \n",
       "2  62.0      0      0   240276   9.6875   NaN        Q  \n",
       "3  27.0      0      0   315154   8.6625   NaN        S  \n",
       "4  22.0      1      1  3101298  12.2875   NaN        S  "
      ]
     },
     "execution_count": 312,
     "metadata": {},
     "output_type": "execute_result"
    }
   ],
   "source": [
    "test.head()"
   ]
  },
  {
   "cell_type": "code",
   "execution_count": 313,
   "id": "eb979b8e",
   "metadata": {},
   "outputs": [
    {
     "name": "stdout",
     "output_type": "stream",
     "text": [
      "The shape of the training and test datasets are: (891, 12), (418, 11)\n"
     ]
    }
   ],
   "source": [
    "print(f\"The shape of the training and test datasets are: {train.shape}, {test.shape}\")"
   ]
  },
  {
   "cell_type": "code",
   "execution_count": 314,
   "id": "72426bee",
   "metadata": {},
   "outputs": [],
   "source": [
    "def null_count(x):\n",
    "    total = x.isnull().sum().sort_values(ascending=False)\n",
    "    percent = (np.round(x.isnull().sum()/x.isnull().count(), 3)).sort_values(ascending=False)\n",
    "    missing_data = pd.concat([total, percent], axis=1, keys=[\"total\", \"Percent\"])\n",
    "    return missing_data"
   ]
  },
  {
   "cell_type": "code",
   "execution_count": 315,
   "id": "9c7cb6bc",
   "metadata": {
    "scrolled": true
   },
   "outputs": [
    {
     "data": {
      "text/html": [
       "<div>\n",
       "<style scoped>\n",
       "    .dataframe tbody tr th:only-of-type {\n",
       "        vertical-align: middle;\n",
       "    }\n",
       "\n",
       "    .dataframe tbody tr th {\n",
       "        vertical-align: top;\n",
       "    }\n",
       "\n",
       "    .dataframe thead th {\n",
       "        text-align: right;\n",
       "    }\n",
       "</style>\n",
       "<table border=\"1\" class=\"dataframe\">\n",
       "  <thead>\n",
       "    <tr style=\"text-align: right;\">\n",
       "      <th></th>\n",
       "      <th>total</th>\n",
       "      <th>Percent</th>\n",
       "    </tr>\n",
       "  </thead>\n",
       "  <tbody>\n",
       "    <tr>\n",
       "      <th>Cabin</th>\n",
       "      <td>687</td>\n",
       "      <td>0.771</td>\n",
       "    </tr>\n",
       "    <tr>\n",
       "      <th>Age</th>\n",
       "      <td>177</td>\n",
       "      <td>0.199</td>\n",
       "    </tr>\n",
       "    <tr>\n",
       "      <th>Embarked</th>\n",
       "      <td>2</td>\n",
       "      <td>0.002</td>\n",
       "    </tr>\n",
       "    <tr>\n",
       "      <th>PassengerId</th>\n",
       "      <td>0</td>\n",
       "      <td>0.000</td>\n",
       "    </tr>\n",
       "    <tr>\n",
       "      <th>Survived</th>\n",
       "      <td>0</td>\n",
       "      <td>0.000</td>\n",
       "    </tr>\n",
       "    <tr>\n",
       "      <th>Pclass</th>\n",
       "      <td>0</td>\n",
       "      <td>0.000</td>\n",
       "    </tr>\n",
       "    <tr>\n",
       "      <th>Name</th>\n",
       "      <td>0</td>\n",
       "      <td>0.000</td>\n",
       "    </tr>\n",
       "    <tr>\n",
       "      <th>Sex</th>\n",
       "      <td>0</td>\n",
       "      <td>0.000</td>\n",
       "    </tr>\n",
       "    <tr>\n",
       "      <th>SibSp</th>\n",
       "      <td>0</td>\n",
       "      <td>0.000</td>\n",
       "    </tr>\n",
       "    <tr>\n",
       "      <th>Parch</th>\n",
       "      <td>0</td>\n",
       "      <td>0.000</td>\n",
       "    </tr>\n",
       "    <tr>\n",
       "      <th>Ticket</th>\n",
       "      <td>0</td>\n",
       "      <td>0.000</td>\n",
       "    </tr>\n",
       "    <tr>\n",
       "      <th>Fare</th>\n",
       "      <td>0</td>\n",
       "      <td>0.000</td>\n",
       "    </tr>\n",
       "  </tbody>\n",
       "</table>\n",
       "</div>"
      ],
      "text/plain": [
       "             total  Percent\n",
       "Cabin          687    0.771\n",
       "Age            177    0.199\n",
       "Embarked         2    0.002\n",
       "PassengerId      0    0.000\n",
       "Survived         0    0.000\n",
       "Pclass           0    0.000\n",
       "Name             0    0.000\n",
       "Sex              0    0.000\n",
       "SibSp            0    0.000\n",
       "Parch            0    0.000\n",
       "Ticket           0    0.000\n",
       "Fare             0    0.000"
      ]
     },
     "execution_count": 315,
     "metadata": {},
     "output_type": "execute_result"
    }
   ],
   "source": [
    "null_count(train)"
   ]
  },
  {
   "cell_type": "code",
   "execution_count": 316,
   "id": "f0fe93a2",
   "metadata": {},
   "outputs": [
    {
     "data": {
      "text/html": [
       "<div>\n",
       "<style scoped>\n",
       "    .dataframe tbody tr th:only-of-type {\n",
       "        vertical-align: middle;\n",
       "    }\n",
       "\n",
       "    .dataframe tbody tr th {\n",
       "        vertical-align: top;\n",
       "    }\n",
       "\n",
       "    .dataframe thead th {\n",
       "        text-align: right;\n",
       "    }\n",
       "</style>\n",
       "<table border=\"1\" class=\"dataframe\">\n",
       "  <thead>\n",
       "    <tr style=\"text-align: right;\">\n",
       "      <th></th>\n",
       "      <th>total</th>\n",
       "      <th>Percent</th>\n",
       "    </tr>\n",
       "  </thead>\n",
       "  <tbody>\n",
       "    <tr>\n",
       "      <th>Cabin</th>\n",
       "      <td>327</td>\n",
       "      <td>0.782</td>\n",
       "    </tr>\n",
       "    <tr>\n",
       "      <th>Age</th>\n",
       "      <td>86</td>\n",
       "      <td>0.206</td>\n",
       "    </tr>\n",
       "    <tr>\n",
       "      <th>Fare</th>\n",
       "      <td>1</td>\n",
       "      <td>0.002</td>\n",
       "    </tr>\n",
       "    <tr>\n",
       "      <th>PassengerId</th>\n",
       "      <td>0</td>\n",
       "      <td>0.000</td>\n",
       "    </tr>\n",
       "    <tr>\n",
       "      <th>Pclass</th>\n",
       "      <td>0</td>\n",
       "      <td>0.000</td>\n",
       "    </tr>\n",
       "    <tr>\n",
       "      <th>Name</th>\n",
       "      <td>0</td>\n",
       "      <td>0.000</td>\n",
       "    </tr>\n",
       "    <tr>\n",
       "      <th>Sex</th>\n",
       "      <td>0</td>\n",
       "      <td>0.000</td>\n",
       "    </tr>\n",
       "    <tr>\n",
       "      <th>SibSp</th>\n",
       "      <td>0</td>\n",
       "      <td>0.000</td>\n",
       "    </tr>\n",
       "    <tr>\n",
       "      <th>Parch</th>\n",
       "      <td>0</td>\n",
       "      <td>0.000</td>\n",
       "    </tr>\n",
       "    <tr>\n",
       "      <th>Ticket</th>\n",
       "      <td>0</td>\n",
       "      <td>0.000</td>\n",
       "    </tr>\n",
       "    <tr>\n",
       "      <th>Embarked</th>\n",
       "      <td>0</td>\n",
       "      <td>0.000</td>\n",
       "    </tr>\n",
       "  </tbody>\n",
       "</table>\n",
       "</div>"
      ],
      "text/plain": [
       "             total  Percent\n",
       "Cabin          327    0.782\n",
       "Age             86    0.206\n",
       "Fare             1    0.002\n",
       "PassengerId      0    0.000\n",
       "Pclass           0    0.000\n",
       "Name             0    0.000\n",
       "Sex              0    0.000\n",
       "SibSp            0    0.000\n",
       "Parch            0    0.000\n",
       "Ticket           0    0.000\n",
       "Embarked         0    0.000"
      ]
     },
     "execution_count": 316,
     "metadata": {},
     "output_type": "execute_result"
    }
   ],
   "source": [
    "null_count(test)"
   ]
  },
  {
   "cell_type": "code",
   "execution_count": 317,
   "id": "6ee467f4",
   "metadata": {},
   "outputs": [
    {
     "name": "stdout",
     "output_type": "stream",
     "text": [
      "<class 'pandas.core.frame.DataFrame'>\n",
      "RangeIndex: 891 entries, 0 to 890\n",
      "Data columns (total 12 columns):\n",
      " #   Column       Non-Null Count  Dtype  \n",
      "---  ------       --------------  -----  \n",
      " 0   PassengerId  891 non-null    int64  \n",
      " 1   Survived     891 non-null    int64  \n",
      " 2   Pclass       891 non-null    int64  \n",
      " 3   Name         891 non-null    object \n",
      " 4   Sex          891 non-null    object \n",
      " 5   Age          714 non-null    float64\n",
      " 6   SibSp        891 non-null    int64  \n",
      " 7   Parch        891 non-null    int64  \n",
      " 8   Ticket       891 non-null    object \n",
      " 9   Fare         891 non-null    float64\n",
      " 10  Cabin        204 non-null    object \n",
      " 11  Embarked     889 non-null    object \n",
      "dtypes: float64(2), int64(5), object(5)\n",
      "memory usage: 83.7+ KB\n"
     ]
    }
   ],
   "source": [
    "train.info()"
   ]
  },
  {
   "cell_type": "code",
   "execution_count": 318,
   "id": "06cfc80d",
   "metadata": {
    "scrolled": true
   },
   "outputs": [
    {
     "name": "stdout",
     "output_type": "stream",
     "text": [
      "<class 'pandas.core.frame.DataFrame'>\n",
      "RangeIndex: 418 entries, 0 to 417\n",
      "Data columns (total 11 columns):\n",
      " #   Column       Non-Null Count  Dtype  \n",
      "---  ------       --------------  -----  \n",
      " 0   PassengerId  418 non-null    int64  \n",
      " 1   Pclass       418 non-null    int64  \n",
      " 2   Name         418 non-null    object \n",
      " 3   Sex          418 non-null    object \n",
      " 4   Age          332 non-null    float64\n",
      " 5   SibSp        418 non-null    int64  \n",
      " 6   Parch        418 non-null    int64  \n",
      " 7   Ticket       418 non-null    object \n",
      " 8   Fare         417 non-null    float64\n",
      " 9   Cabin        91 non-null     object \n",
      " 10  Embarked     418 non-null    object \n",
      "dtypes: float64(2), int64(4), object(5)\n",
      "memory usage: 36.0+ KB\n"
     ]
    }
   ],
   "source": [
    "test.info()"
   ]
  },
  {
   "cell_type": "code",
   "execution_count": 319,
   "id": "237f7938",
   "metadata": {},
   "outputs": [
    {
     "data": {
      "text/html": [
       "<div>\n",
       "<style scoped>\n",
       "    .dataframe tbody tr th:only-of-type {\n",
       "        vertical-align: middle;\n",
       "    }\n",
       "\n",
       "    .dataframe tbody tr th {\n",
       "        vertical-align: top;\n",
       "    }\n",
       "\n",
       "    .dataframe thead th {\n",
       "        text-align: right;\n",
       "    }\n",
       "</style>\n",
       "<table border=\"1\" class=\"dataframe\">\n",
       "  <thead>\n",
       "    <tr style=\"text-align: right;\">\n",
       "      <th></th>\n",
       "      <th>PassengerId</th>\n",
       "      <th>Survived</th>\n",
       "      <th>Pclass</th>\n",
       "      <th>Age</th>\n",
       "      <th>SibSp</th>\n",
       "      <th>Parch</th>\n",
       "      <th>Fare</th>\n",
       "    </tr>\n",
       "  </thead>\n",
       "  <tbody>\n",
       "    <tr>\n",
       "      <th>count</th>\n",
       "      <td>891.000000</td>\n",
       "      <td>891.000000</td>\n",
       "      <td>891.000000</td>\n",
       "      <td>714.000000</td>\n",
       "      <td>891.000000</td>\n",
       "      <td>891.000000</td>\n",
       "      <td>891.000000</td>\n",
       "    </tr>\n",
       "    <tr>\n",
       "      <th>mean</th>\n",
       "      <td>446.000000</td>\n",
       "      <td>0.383838</td>\n",
       "      <td>2.308642</td>\n",
       "      <td>29.699118</td>\n",
       "      <td>0.523008</td>\n",
       "      <td>0.381594</td>\n",
       "      <td>32.204208</td>\n",
       "    </tr>\n",
       "    <tr>\n",
       "      <th>std</th>\n",
       "      <td>257.353842</td>\n",
       "      <td>0.486592</td>\n",
       "      <td>0.836071</td>\n",
       "      <td>14.526497</td>\n",
       "      <td>1.102743</td>\n",
       "      <td>0.806057</td>\n",
       "      <td>49.693429</td>\n",
       "    </tr>\n",
       "    <tr>\n",
       "      <th>min</th>\n",
       "      <td>1.000000</td>\n",
       "      <td>0.000000</td>\n",
       "      <td>1.000000</td>\n",
       "      <td>0.420000</td>\n",
       "      <td>0.000000</td>\n",
       "      <td>0.000000</td>\n",
       "      <td>0.000000</td>\n",
       "    </tr>\n",
       "    <tr>\n",
       "      <th>25%</th>\n",
       "      <td>223.500000</td>\n",
       "      <td>0.000000</td>\n",
       "      <td>2.000000</td>\n",
       "      <td>20.125000</td>\n",
       "      <td>0.000000</td>\n",
       "      <td>0.000000</td>\n",
       "      <td>7.910400</td>\n",
       "    </tr>\n",
       "    <tr>\n",
       "      <th>50%</th>\n",
       "      <td>446.000000</td>\n",
       "      <td>0.000000</td>\n",
       "      <td>3.000000</td>\n",
       "      <td>28.000000</td>\n",
       "      <td>0.000000</td>\n",
       "      <td>0.000000</td>\n",
       "      <td>14.454200</td>\n",
       "    </tr>\n",
       "    <tr>\n",
       "      <th>75%</th>\n",
       "      <td>668.500000</td>\n",
       "      <td>1.000000</td>\n",
       "      <td>3.000000</td>\n",
       "      <td>38.000000</td>\n",
       "      <td>1.000000</td>\n",
       "      <td>0.000000</td>\n",
       "      <td>31.000000</td>\n",
       "    </tr>\n",
       "    <tr>\n",
       "      <th>max</th>\n",
       "      <td>891.000000</td>\n",
       "      <td>1.000000</td>\n",
       "      <td>3.000000</td>\n",
       "      <td>80.000000</td>\n",
       "      <td>8.000000</td>\n",
       "      <td>6.000000</td>\n",
       "      <td>512.329200</td>\n",
       "    </tr>\n",
       "  </tbody>\n",
       "</table>\n",
       "</div>"
      ],
      "text/plain": [
       "       PassengerId    Survived      Pclass         Age       SibSp  \\\n",
       "count   891.000000  891.000000  891.000000  714.000000  891.000000   \n",
       "mean    446.000000    0.383838    2.308642   29.699118    0.523008   \n",
       "std     257.353842    0.486592    0.836071   14.526497    1.102743   \n",
       "min       1.000000    0.000000    1.000000    0.420000    0.000000   \n",
       "25%     223.500000    0.000000    2.000000   20.125000    0.000000   \n",
       "50%     446.000000    0.000000    3.000000   28.000000    0.000000   \n",
       "75%     668.500000    1.000000    3.000000   38.000000    1.000000   \n",
       "max     891.000000    1.000000    3.000000   80.000000    8.000000   \n",
       "\n",
       "            Parch        Fare  \n",
       "count  891.000000  891.000000  \n",
       "mean     0.381594   32.204208  \n",
       "std      0.806057   49.693429  \n",
       "min      0.000000    0.000000  \n",
       "25%      0.000000    7.910400  \n",
       "50%      0.000000   14.454200  \n",
       "75%      0.000000   31.000000  \n",
       "max      6.000000  512.329200  "
      ]
     },
     "execution_count": 319,
     "metadata": {},
     "output_type": "execute_result"
    }
   ],
   "source": [
    "train.describe()"
   ]
  },
  {
   "cell_type": "code",
   "execution_count": 320,
   "id": "c866d493",
   "metadata": {
    "scrolled": true
   },
   "outputs": [
    {
     "data": {
      "text/html": [
       "<div>\n",
       "<style scoped>\n",
       "    .dataframe tbody tr th:only-of-type {\n",
       "        vertical-align: middle;\n",
       "    }\n",
       "\n",
       "    .dataframe tbody tr th {\n",
       "        vertical-align: top;\n",
       "    }\n",
       "\n",
       "    .dataframe thead th {\n",
       "        text-align: right;\n",
       "    }\n",
       "</style>\n",
       "<table border=\"1\" class=\"dataframe\">\n",
       "  <thead>\n",
       "    <tr style=\"text-align: right;\">\n",
       "      <th></th>\n",
       "      <th>PassengerId</th>\n",
       "      <th>Pclass</th>\n",
       "      <th>Age</th>\n",
       "      <th>SibSp</th>\n",
       "      <th>Parch</th>\n",
       "      <th>Fare</th>\n",
       "    </tr>\n",
       "  </thead>\n",
       "  <tbody>\n",
       "    <tr>\n",
       "      <th>count</th>\n",
       "      <td>418.000000</td>\n",
       "      <td>418.000000</td>\n",
       "      <td>332.000000</td>\n",
       "      <td>418.000000</td>\n",
       "      <td>418.000000</td>\n",
       "      <td>417.000000</td>\n",
       "    </tr>\n",
       "    <tr>\n",
       "      <th>mean</th>\n",
       "      <td>1100.500000</td>\n",
       "      <td>2.265550</td>\n",
       "      <td>30.272590</td>\n",
       "      <td>0.447368</td>\n",
       "      <td>0.392344</td>\n",
       "      <td>35.627188</td>\n",
       "    </tr>\n",
       "    <tr>\n",
       "      <th>std</th>\n",
       "      <td>120.810458</td>\n",
       "      <td>0.841838</td>\n",
       "      <td>14.181209</td>\n",
       "      <td>0.896760</td>\n",
       "      <td>0.981429</td>\n",
       "      <td>55.907576</td>\n",
       "    </tr>\n",
       "    <tr>\n",
       "      <th>min</th>\n",
       "      <td>892.000000</td>\n",
       "      <td>1.000000</td>\n",
       "      <td>0.170000</td>\n",
       "      <td>0.000000</td>\n",
       "      <td>0.000000</td>\n",
       "      <td>0.000000</td>\n",
       "    </tr>\n",
       "    <tr>\n",
       "      <th>25%</th>\n",
       "      <td>996.250000</td>\n",
       "      <td>1.000000</td>\n",
       "      <td>21.000000</td>\n",
       "      <td>0.000000</td>\n",
       "      <td>0.000000</td>\n",
       "      <td>7.895800</td>\n",
       "    </tr>\n",
       "    <tr>\n",
       "      <th>50%</th>\n",
       "      <td>1100.500000</td>\n",
       "      <td>3.000000</td>\n",
       "      <td>27.000000</td>\n",
       "      <td>0.000000</td>\n",
       "      <td>0.000000</td>\n",
       "      <td>14.454200</td>\n",
       "    </tr>\n",
       "    <tr>\n",
       "      <th>75%</th>\n",
       "      <td>1204.750000</td>\n",
       "      <td>3.000000</td>\n",
       "      <td>39.000000</td>\n",
       "      <td>1.000000</td>\n",
       "      <td>0.000000</td>\n",
       "      <td>31.500000</td>\n",
       "    </tr>\n",
       "    <tr>\n",
       "      <th>max</th>\n",
       "      <td>1309.000000</td>\n",
       "      <td>3.000000</td>\n",
       "      <td>76.000000</td>\n",
       "      <td>8.000000</td>\n",
       "      <td>9.000000</td>\n",
       "      <td>512.329200</td>\n",
       "    </tr>\n",
       "  </tbody>\n",
       "</table>\n",
       "</div>"
      ],
      "text/plain": [
       "       PassengerId      Pclass         Age       SibSp       Parch        Fare\n",
       "count   418.000000  418.000000  332.000000  418.000000  418.000000  417.000000\n",
       "mean   1100.500000    2.265550   30.272590    0.447368    0.392344   35.627188\n",
       "std     120.810458    0.841838   14.181209    0.896760    0.981429   55.907576\n",
       "min     892.000000    1.000000    0.170000    0.000000    0.000000    0.000000\n",
       "25%     996.250000    1.000000   21.000000    0.000000    0.000000    7.895800\n",
       "50%    1100.500000    3.000000   27.000000    0.000000    0.000000   14.454200\n",
       "75%    1204.750000    3.000000   39.000000    1.000000    0.000000   31.500000\n",
       "max    1309.000000    3.000000   76.000000    8.000000    9.000000  512.329200"
      ]
     },
     "execution_count": 320,
     "metadata": {},
     "output_type": "execute_result"
    }
   ],
   "source": [
    "test.describe()"
   ]
  },
  {
   "cell_type": "code",
   "execution_count": 321,
   "id": "23d25b66",
   "metadata": {},
   "outputs": [
    {
     "data": {
      "text/plain": [
       "<AxesSubplot:>"
      ]
     },
     "execution_count": 321,
     "metadata": {},
     "output_type": "execute_result"
    },
    {
     "data": {
      "image/png": "[encoded data removed]",
      "text/plain": [
       "<Figure size 432x288 with 1 Axes>"
      ]
     },
     "metadata": {},
     "output_type": "display_data"
    }
   ],
   "source": [
    "sns.heatmap(train.isnull(),cbar=False,cmap='viridis')"
   ]
  },
  {
   "cell_type": "code",
   "execution_count": 322,
   "id": "13aee807",
   "metadata": {},
   "outputs": [
    {
     "data": {
      "text/plain": [
       "Braund, Mr. Owen Harris                         1\n",
       "Andersson, Mr. Anders Johan                     1\n",
       "Heikkinen, Miss. Laina                          1\n",
       "Futrelle, Mrs. Jacques Heath (Lily May Peel)    1\n",
       "Allen, Mr. William Henry                        1\n",
       "                                               ..\n",
       "Montvila, Rev. Juozas                           1\n",
       "Graham, Miss. Margaret Edith                    1\n",
       "Johnston, Miss. Catherine Helen \"Carrie\"        1\n",
       "Laleff, Mr. Kristo                              1\n",
       "Dooley, Mr. Patrick                             1\n",
       "Name: Name, Length: 891, dtype: int64"
      ]
     },
     "execution_count": 322,
     "metadata": {},
     "output_type": "execute_result"
    }
   ],
   "source": [
    "# All the names are diverse\n",
    "train[\"Name\"].value_counts().sort_values()"
   ]
  },
  {
   "cell_type": "markdown",
   "id": "40bf242e",
   "metadata": {},
   "source": [
    "##### Data imputation"
   ]
  },
  {
   "cell_type": "code",
   "execution_count": 323,
   "id": "3880b7c0",
   "metadata": {},
   "outputs": [],
   "source": [
    "# Age appears to be an important variable so we will fill it with values\n",
    "train[\"Age\"] = train[\"Age\"].fillna(method='ffill').astype(int)\n",
    "test[\"Age\"] = test[\"Age\"].fillna(method='ffill').astype(int)"
   ]
  },
  {
   "cell_type": "code",
   "execution_count": 324,
   "id": "2d18d05a",
   "metadata": {},
   "outputs": [
    {
     "data": {
      "text/html": [
       "<div>\n",
       "<style scoped>\n",
       "    .dataframe tbody tr th:only-of-type {\n",
       "        vertical-align: middle;\n",
       "    }\n",
       "\n",
       "    .dataframe tbody tr th {\n",
       "        vertical-align: top;\n",
       "    }\n",
       "\n",
       "    .dataframe thead th {\n",
       "        text-align: right;\n",
       "    }\n",
       "</style>\n",
       "<table border=\"1\" class=\"dataframe\">\n",
       "  <thead>\n",
       "    <tr style=\"text-align: right;\">\n",
       "      <th></th>\n",
       "      <th>total</th>\n",
       "      <th>Percent</th>\n",
       "    </tr>\n",
       "  </thead>\n",
       "  <tbody>\n",
       "    <tr>\n",
       "      <th>Cabin</th>\n",
       "      <td>687</td>\n",
       "      <td>0.771</td>\n",
       "    </tr>\n",
       "    <tr>\n",
       "      <th>Embarked</th>\n",
       "      <td>2</td>\n",
       "      <td>0.002</td>\n",
       "    </tr>\n",
       "    <tr>\n",
       "      <th>PassengerId</th>\n",
       "      <td>0</td>\n",
       "      <td>0.000</td>\n",
       "    </tr>\n",
       "    <tr>\n",
       "      <th>Survived</th>\n",
       "      <td>0</td>\n",
       "      <td>0.000</td>\n",
       "    </tr>\n",
       "    <tr>\n",
       "      <th>Pclass</th>\n",
       "      <td>0</td>\n",
       "      <td>0.000</td>\n",
       "    </tr>\n",
       "    <tr>\n",
       "      <th>Name</th>\n",
       "      <td>0</td>\n",
       "      <td>0.000</td>\n",
       "    </tr>\n",
       "    <tr>\n",
       "      <th>Sex</th>\n",
       "      <td>0</td>\n",
       "      <td>0.000</td>\n",
       "    </tr>\n",
       "    <tr>\n",
       "      <th>Age</th>\n",
       "      <td>0</td>\n",
       "      <td>0.000</td>\n",
       "    </tr>\n",
       "    <tr>\n",
       "      <th>SibSp</th>\n",
       "      <td>0</td>\n",
       "      <td>0.000</td>\n",
       "    </tr>\n",
       "    <tr>\n",
       "      <th>Parch</th>\n",
       "      <td>0</td>\n",
       "      <td>0.000</td>\n",
       "    </tr>\n",
       "    <tr>\n",
       "      <th>Ticket</th>\n",
       "      <td>0</td>\n",
       "      <td>0.000</td>\n",
       "    </tr>\n",
       "    <tr>\n",
       "      <th>Fare</th>\n",
       "      <td>0</td>\n",
       "      <td>0.000</td>\n",
       "    </tr>\n",
       "  </tbody>\n",
       "</table>\n",
       "</div>"
      ],
      "text/plain": [
       "             total  Percent\n",
       "Cabin          687    0.771\n",
       "Embarked         2    0.002\n",
       "PassengerId      0    0.000\n",
       "Survived         0    0.000\n",
       "Pclass           0    0.000\n",
       "Name             0    0.000\n",
       "Sex              0    0.000\n",
       "Age              0    0.000\n",
       "SibSp            0    0.000\n",
       "Parch            0    0.000\n",
       "Ticket           0    0.000\n",
       "Fare             0    0.000"
      ]
     },
     "execution_count": 324,
     "metadata": {},
     "output_type": "execute_result"
    }
   ],
   "source": [
    "# On the other hand, we can drop the rows of Embarked that are missing and exclude cabin from our analysis since most of its values are missing.\n",
    "null_count(train)"
   ]
  },
  {
   "cell_type": "markdown",
   "id": "88bb7563",
   "metadata": {},
   "source": [
    "##### Univariate Analysis"
   ]
  },
  {
   "cell_type": "code",
   "execution_count": 325,
   "id": "c4924a5a",
   "metadata": {
    "scrolled": true
   },
   "outputs": [
    {
     "data": {
      "text/plain": [
       "<AxesSubplot:xlabel='Age', ylabel='Density'>"
      ]
     },
     "execution_count": 325,
     "metadata": {},
     "output_type": "execute_result"
    },
    {
     "data": {
      "image/png": "[encoded data removed]",
      "text/plain": [
       "<Figure size 432x288 with 1 Axes>"
      ]
     },
     "metadata": {},
     "output_type": "display_data"
    }
   ],
   "source": [
    "sns.distplot(train[\"Age\"], rug=True)"
   ]
  },
  {
   "cell_type": "code",
   "execution_count": 326,
   "id": "7234a850",
   "metadata": {
    "scrolled": true
   },
   "outputs": [
    {
     "data": {
      "text/plain": [
       "<AxesSubplot:xlabel='Age', ylabel='Count'>"
      ]
     },
     "execution_count": 326,
     "metadata": {},
     "output_type": "execute_result"
    },
    {
     "data": {
      "image/png": "[encoded data removed]",
      "text/plain": [
       "<Figure size 432x288 with 1 Axes>"
      ]
     },
     "metadata": {},
     "output_type": "display_data"
    }
   ],
   "source": [
    "sns.histplot(train[\"Age\"])"
   ]
  },
  {
   "cell_type": "code",
   "execution_count": 327,
   "id": "442684a5",
   "metadata": {},
   "outputs": [
    {
     "data": {
      "text/plain": [
       "469     0\n",
       "644     0\n",
       "470     0\n",
       "803     0\n",
       "305     0\n",
       "       ..\n",
       "745    70\n",
       "96     71\n",
       "493    71\n",
       "851    74\n",
       "630    80\n",
       "Name: Age, Length: 891, dtype: int32"
      ]
     },
     "execution_count": 327,
     "metadata": {},
     "output_type": "execute_result"
    }
   ],
   "source": [
    "train.Age.sort_values()"
   ]
  },
  {
   "cell_type": "code",
   "execution_count": 328,
   "id": "b2d2eb9f",
   "metadata": {},
   "outputs": [],
   "source": [
    "def bar(x):\n",
    "    barplot = pd.value_counts(x)\n",
    "    barplot.plot(kind = \"bar\", rot=0)\n",
    "    plt.xticks(range(len(x.unique())))\n",
    "    plt.show()"
   ]
  },
  {
   "cell_type": "code",
   "execution_count": 329,
   "id": "59347eac",
   "metadata": {},
   "outputs": [
    {
     "data": {
      "image/png": "[encoded data removed]",
      "text/plain": [
       "<Figure size 432x288 with 1 Axes>"
      ]
     },
     "metadata": {},
     "output_type": "display_data"
    }
   ],
   "source": [
    "bar(train[\"Pclass\"])"
   ]
  },
  {
   "cell_type": "code",
   "execution_count": 330,
   "id": "c2a3701c",
   "metadata": {},
   "outputs": [
    {
     "data": {
      "image/png": "[encoded data removed]",
      "text/plain": [
       "<Figure size 432x288 with 1 Axes>"
      ]
     },
     "metadata": {},
     "output_type": "display_data"
    }
   ],
   "source": [
    "bar(train[\"SibSp\"])"
   ]
  },
  {
   "cell_type": "code",
   "execution_count": 331,
   "id": "16f4c933",
   "metadata": {
    "scrolled": true
   },
   "outputs": [
    {
     "data": {
      "image/png": "[encoded data removed]",
      "text/plain": [
       "<Figure size 432x288 with 1 Axes>"
      ]
     },
     "metadata": {},
     "output_type": "display_data"
    }
   ],
   "source": [
    "bar(train[\"Parch\"])"
   ]
  },
  {
   "cell_type": "code",
   "execution_count": 332,
   "id": "30465553",
   "metadata": {
    "scrolled": true
   },
   "outputs": [
    {
     "data": {
      "text/plain": [
       "347082      7\n",
       "CA. 2343    7\n",
       "1601        7\n",
       "3101295     6\n",
       "CA 2144     6\n",
       "           ..\n",
       "9234        1\n",
       "19988       1\n",
       "2693        1\n",
       "PC 17612    1\n",
       "370376      1\n",
       "Name: Ticket, Length: 681, dtype: int64"
      ]
     },
     "execution_count": 332,
     "metadata": {},
     "output_type": "execute_result"
    }
   ],
   "source": [
    "train[\"Ticket\"].value_counts()"
   ]
  },
  {
   "cell_type": "code",
   "execution_count": 333,
   "id": "87b63f37",
   "metadata": {},
   "outputs": [],
   "source": [
    "# Skewness and Kurtosis\n",
    "def moments(x):\n",
    "    print(\"Skewness: %f\" % x.skew())\n",
    "    print(\"Kurtosis: %f\" % x.kurt())"
   ]
  },
  {
   "cell_type": "code",
   "execution_count": 334,
   "id": "b81a8d5b",
   "metadata": {},
   "outputs": [
    {
     "name": "stdout",
     "output_type": "stream",
     "text": [
      "Skewness: 0.321595\n",
      "Kurtosis: 0.086058\n"
     ]
    }
   ],
   "source": [
    "moments(train[\"Age\"])"
   ]
  },
  {
   "cell_type": "code",
   "execution_count": 335,
   "id": "3410341d",
   "metadata": {},
   "outputs": [
    {
     "name": "stdout",
     "output_type": "stream",
     "text": [
      "Skewness: 4.787317\n",
      "Kurtosis: 33.398141\n"
     ]
    }
   ],
   "source": [
    "moments(train[\"Fare\"])"
   ]
  },
  {
   "cell_type": "code",
   "execution_count": 336,
   "id": "764c62e2",
   "metadata": {
    "scrolled": true
   },
   "outputs": [
    {
     "data": {
      "text/plain": [
       "<AxesSubplot:xlabel='Fare', ylabel='Density'>"
      ]
     },
     "execution_count": 336,
     "metadata": {},
     "output_type": "execute_result"
    },
    {
     "data": {
      "image/png": "[encoded data removed]",
      "text/plain": [
       "<Figure size 432x288 with 1 Axes>"
      ]
     },
     "metadata": {},
     "output_type": "display_data"
    }
   ],
   "source": [
    "# We can see that both skewness nad Kurtosis are above the value of 1. Therefore, the Variable\n",
    "# Fare, is unlikely to be normally distributed\n",
    "sns.distplot(train[\"Fare\"], rug=True)"
   ]
  },
  {
   "cell_type": "markdown",
   "id": "1cef9381",
   "metadata": {},
   "source": [
    "##### Bivariate Analysis"
   ]
  },
  {
   "cell_type": "code",
   "execution_count": 337,
   "id": "c076909b",
   "metadata": {},
   "outputs": [
    {
     "data": {
      "text/plain": [
       "<AxesSubplot:xlabel='Sex', ylabel='Age'>"
      ]
     },
     "execution_count": 337,
     "metadata": {},
     "output_type": "execute_result"
    },
    {
     "data": {
      "image/png": "[encoded data removed]",
      "text/plain": [
       "<Figure size 432x288 with 1 Axes>"
      ]
     },
     "metadata": {},
     "output_type": "display_data"
    }
   ],
   "source": [
    "sns.boxplot(x=\"Sex\", y=\"Age\" ,data=train)"
   ]
  },
  {
   "cell_type": "code",
   "execution_count": 338,
   "id": "09e2036b",
   "metadata": {
    "scrolled": true
   },
   "outputs": [
    {
     "data": {
      "text/html": [
       "<div>\n",
       "<style scoped>\n",
       "    .dataframe tbody tr th:only-of-type {\n",
       "        vertical-align: middle;\n",
       "    }\n",
       "\n",
       "    .dataframe tbody tr th {\n",
       "        vertical-align: top;\n",
       "    }\n",
       "\n",
       "    .dataframe thead th {\n",
       "        text-align: right;\n",
       "    }\n",
       "</style>\n",
       "<table border=\"1\" class=\"dataframe\">\n",
       "  <thead>\n",
       "    <tr style=\"text-align: right;\">\n",
       "      <th></th>\n",
       "      <th>PassengerId</th>\n",
       "      <th>Survived</th>\n",
       "      <th>Pclass</th>\n",
       "      <th>Name</th>\n",
       "      <th>Sex</th>\n",
       "      <th>Age</th>\n",
       "      <th>SibSp</th>\n",
       "      <th>Parch</th>\n",
       "      <th>Ticket</th>\n",
       "      <th>Fare</th>\n",
       "      <th>Cabin</th>\n",
       "      <th>Embarked</th>\n",
       "    </tr>\n",
       "  </thead>\n",
       "  <tbody>\n",
       "    <tr>\n",
       "      <th>886</th>\n",
       "      <td>887</td>\n",
       "      <td>0</td>\n",
       "      <td>2</td>\n",
       "      <td>Montvila, Rev. Juozas</td>\n",
       "      <td>male</td>\n",
       "      <td>27</td>\n",
       "      <td>0</td>\n",
       "      <td>0</td>\n",
       "      <td>211536</td>\n",
       "      <td>13.00</td>\n",
       "      <td>NaN</td>\n",
       "      <td>S</td>\n",
       "    </tr>\n",
       "    <tr>\n",
       "      <th>887</th>\n",
       "      <td>888</td>\n",
       "      <td>1</td>\n",
       "      <td>1</td>\n",
       "      <td>Graham, Miss. Margaret Edith</td>\n",
       "      <td>female</td>\n",
       "      <td>19</td>\n",
       "      <td>0</td>\n",
       "      <td>0</td>\n",
       "      <td>112053</td>\n",
       "      <td>30.00</td>\n",
       "      <td>B42</td>\n",
       "      <td>S</td>\n",
       "    </tr>\n",
       "    <tr>\n",
       "      <th>888</th>\n",
       "      <td>889</td>\n",
       "      <td>0</td>\n",
       "      <td>3</td>\n",
       "      <td>Johnston, Miss. Catherine Helen \"Carrie\"</td>\n",
       "      <td>female</td>\n",
       "      <td>19</td>\n",
       "      <td>1</td>\n",
       "      <td>2</td>\n",
       "      <td>W./C. 6607</td>\n",
       "      <td>23.45</td>\n",
       "      <td>NaN</td>\n",
       "      <td>S</td>\n",
       "    </tr>\n",
       "    <tr>\n",
       "      <th>889</th>\n",
       "      <td>890</td>\n",
       "      <td>1</td>\n",
       "      <td>1</td>\n",
       "      <td>Behr, Mr. Karl Howell</td>\n",
       "      <td>male</td>\n",
       "      <td>26</td>\n",
       "      <td>0</td>\n",
       "      <td>0</td>\n",
       "      <td>111369</td>\n",
       "      <td>30.00</td>\n",
       "      <td>C148</td>\n",
       "      <td>C</td>\n",
       "    </tr>\n",
       "    <tr>\n",
       "      <th>890</th>\n",
       "      <td>891</td>\n",
       "      <td>0</td>\n",
       "      <td>3</td>\n",
       "      <td>Dooley, Mr. Patrick</td>\n",
       "      <td>male</td>\n",
       "      <td>32</td>\n",
       "      <td>0</td>\n",
       "      <td>0</td>\n",
       "      <td>370376</td>\n",
       "      <td>7.75</td>\n",
       "      <td>NaN</td>\n",
       "      <td>Q</td>\n",
       "    </tr>\n",
       "  </tbody>\n",
       "</table>\n",
       "</div>"
      ],
      "text/plain": [
       "     PassengerId  Survived  Pclass                                      Name  \\\n",
       "886          887         0       2                     Montvila, Rev. Juozas   \n",
       "887          888         1       1              Graham, Miss. Margaret Edith   \n",
       "888          889         0       3  Johnston, Miss. Catherine Helen \"Carrie\"   \n",
       "889          890         1       1                     Behr, Mr. Karl Howell   \n",
       "890          891         0       3                       Dooley, Mr. Patrick   \n",
       "\n",
       "        Sex  Age  SibSp  Parch      Ticket   Fare Cabin Embarked  \n",
       "886    male   27      0      0      211536  13.00   NaN        S  \n",
       "887  female   19      0      0      112053  30.00   B42        S  \n",
       "888  female   19      1      2  W./C. 6607  23.45   NaN        S  \n",
       "889    male   26      0      0      111369  30.00  C148        C  \n",
       "890    male   32      0      0      370376   7.75   NaN        Q  "
      ]
     },
     "execution_count": 338,
     "metadata": {},
     "output_type": "execute_result"
    }
   ],
   "source": [
    "train.tail()"
   ]
  },
  {
   "cell_type": "code",
   "execution_count": 339,
   "id": "48bbfcb9",
   "metadata": {
    "scrolled": true
   },
   "outputs": [
    {
     "name": "stderr",
     "output_type": "stream",
     "text": [
      "*c* argument looks like a single numeric RGB or RGBA sequence, which should be avoided as value-mapping will have precedence in case its length matches with *x* & *y*.  Please use the *color* keyword-argument or provide a 2D array with a single row if you intend to specify the same RGB or RGBA value for all points.\n"
     ]
    },
    {
     "data": {
      "text/plain": [
       "<AxesSubplot:xlabel='Age', ylabel='Fare'>"
      ]
     },
     "execution_count": 339,
     "metadata": {},
     "output_type": "execute_result"
    },
    {
     "data": {
      "image/png": "[encoded data removed]",
      "text/plain": [
       "<Figure size 432x288 with 1 Axes>"
      ]
     },
     "metadata": {},
     "output_type": "display_data"
    }
   ],
   "source": [
    "# Crossing Age and Fare once Age has been filled with values\n",
    "train.plot.scatter(x=\"Age\", y=\"Fare\")"
   ]
  },
  {
   "cell_type": "markdown",
   "id": "7e99a161",
   "metadata": {},
   "source": [
    "##### Feature Engineering"
   ]
  },
  {
   "cell_type": "code",
   "execution_count": 340,
   "id": "03a52ab2",
   "metadata": {},
   "outputs": [],
   "source": [
    "train[\"Sex_new\"] = np.where(train[\"Sex\"] == \"male\", 1, 0)\n",
    "test[\"Sex_new\"] = np.where(test[\"Sex\"] == \"male\", 1, 0)"
   ]
  },
  {
   "cell_type": "code",
   "execution_count": 341,
   "id": "495e1d44",
   "metadata": {},
   "outputs": [],
   "source": [
    "train[\"Embarked_new\"] = train[\"Embarked\"].apply(lambda x: 0 if x == \"S\" else 1 if x == \"C\" else 2 if \"Q\" else None)\n",
    "test[\"Embarked_new\"] = test[\"Embarked\"].apply(lambda x: 0 if x == \"S\" else 1 if x == \"C\" else 2 if \"Q\" else None)"
   ]
  },
  {
   "cell_type": "code",
   "execution_count": 342,
   "id": "689032c4",
   "metadata": {
    "scrolled": true
   },
   "outputs": [
    {
     "data": {
      "text/plain": [
       "<AxesSubplot:>"
      ]
     },
     "execution_count": 342,
     "metadata": {},
     "output_type": "execute_result"
    },
    {
     "data": {
      "image/png": "[encoded data removed]",
      "text/plain": [
       "<Figure size 432x288 with 2 Axes>"
      ]
     },
     "metadata": {},
     "output_type": "display_data"
    }
   ],
   "source": [
    "sns.heatmap(train.corr(), annot = True, center=0, linewidths=.5)"
   ]
  },
  {
   "cell_type": "code",
   "execution_count": 343,
   "id": "17d1c727",
   "metadata": {},
   "outputs": [],
   "source": [
    "train_2 = train.copy()"
   ]
  },
  {
   "cell_type": "code",
   "execution_count": 344,
   "id": "1edfa675",
   "metadata": {},
   "outputs": [],
   "source": [
    "train_2 = train_2.drop(columns=[\"Sex\", \"Embarked\", \"Name\", \"PassengerId\", \"Ticket\", \"Cabin\"],axis=1)\n",
    "final_results = test[[\"PassengerId\"]]\n",
    "test = test.drop(columns=[\"Sex\", \"Embarked\", \"Name\", \"PassengerId\", \"Ticket\", \"Cabin\"],axis=1)"
   ]
  },
  {
   "cell_type": "code",
   "execution_count": 345,
   "id": "d7cc5587",
   "metadata": {
    "scrolled": true
   },
   "outputs": [
    {
     "data": {
      "text/html": [
       "<div>\n",
       "<style scoped>\n",
       "    .dataframe tbody tr th:only-of-type {\n",
       "        vertical-align: middle;\n",
       "    }\n",
       "\n",
       "    .dataframe tbody tr th {\n",
       "        vertical-align: top;\n",
       "    }\n",
       "\n",
       "    .dataframe thead th {\n",
       "        text-align: right;\n",
       "    }\n",
       "</style>\n",
       "<table border=\"1\" class=\"dataframe\">\n",
       "  <thead>\n",
       "    <tr style=\"text-align: right;\">\n",
       "      <th></th>\n",
       "      <th>Survived</th>\n",
       "      <th>Pclass</th>\n",
       "      <th>Age</th>\n",
       "      <th>SibSp</th>\n",
       "      <th>Parch</th>\n",
       "      <th>Fare</th>\n",
       "      <th>Sex_new</th>\n",
       "      <th>Embarked_new</th>\n",
       "    </tr>\n",
       "  </thead>\n",
       "  <tbody>\n",
       "    <tr>\n",
       "      <th>0</th>\n",
       "      <td>0</td>\n",
       "      <td>3</td>\n",
       "      <td>22</td>\n",
       "      <td>1</td>\n",
       "      <td>0</td>\n",
       "      <td>7.2500</td>\n",
       "      <td>1</td>\n",
       "      <td>0</td>\n",
       "    </tr>\n",
       "    <tr>\n",
       "      <th>1</th>\n",
       "      <td>1</td>\n",
       "      <td>1</td>\n",
       "      <td>38</td>\n",
       "      <td>1</td>\n",
       "      <td>0</td>\n",
       "      <td>71.2833</td>\n",
       "      <td>0</td>\n",
       "      <td>1</td>\n",
       "    </tr>\n",
       "    <tr>\n",
       "      <th>2</th>\n",
       "      <td>1</td>\n",
       "      <td>3</td>\n",
       "      <td>26</td>\n",
       "      <td>0</td>\n",
       "      <td>0</td>\n",
       "      <td>7.9250</td>\n",
       "      <td>0</td>\n",
       "      <td>0</td>\n",
       "    </tr>\n",
       "    <tr>\n",
       "      <th>3</th>\n",
       "      <td>1</td>\n",
       "      <td>1</td>\n",
       "      <td>35</td>\n",
       "      <td>1</td>\n",
       "      <td>0</td>\n",
       "      <td>53.1000</td>\n",
       "      <td>0</td>\n",
       "      <td>0</td>\n",
       "    </tr>\n",
       "    <tr>\n",
       "      <th>4</th>\n",
       "      <td>0</td>\n",
       "      <td>3</td>\n",
       "      <td>35</td>\n",
       "      <td>0</td>\n",
       "      <td>0</td>\n",
       "      <td>8.0500</td>\n",
       "      <td>1</td>\n",
       "      <td>0</td>\n",
       "    </tr>\n",
       "    <tr>\n",
       "      <th>...</th>\n",
       "      <td>...</td>\n",
       "      <td>...</td>\n",
       "      <td>...</td>\n",
       "      <td>...</td>\n",
       "      <td>...</td>\n",
       "      <td>...</td>\n",
       "      <td>...</td>\n",
       "      <td>...</td>\n",
       "    </tr>\n",
       "    <tr>\n",
       "      <th>886</th>\n",
       "      <td>0</td>\n",
       "      <td>2</td>\n",
       "      <td>27</td>\n",
       "      <td>0</td>\n",
       "      <td>0</td>\n",
       "      <td>13.0000</td>\n",
       "      <td>1</td>\n",
       "      <td>0</td>\n",
       "    </tr>\n",
       "    <tr>\n",
       "      <th>887</th>\n",
       "      <td>1</td>\n",
       "      <td>1</td>\n",
       "      <td>19</td>\n",
       "      <td>0</td>\n",
       "      <td>0</td>\n",
       "      <td>30.0000</td>\n",
       "      <td>0</td>\n",
       "      <td>0</td>\n",
       "    </tr>\n",
       "    <tr>\n",
       "      <th>888</th>\n",
       "      <td>0</td>\n",
       "      <td>3</td>\n",
       "      <td>19</td>\n",
       "      <td>1</td>\n",
       "      <td>2</td>\n",
       "      <td>23.4500</td>\n",
       "      <td>0</td>\n",
       "      <td>0</td>\n",
       "    </tr>\n",
       "    <tr>\n",
       "      <th>889</th>\n",
       "      <td>1</td>\n",
       "      <td>1</td>\n",
       "      <td>26</td>\n",
       "      <td>0</td>\n",
       "      <td>0</td>\n",
       "      <td>30.0000</td>\n",
       "      <td>1</td>\n",
       "      <td>1</td>\n",
       "    </tr>\n",
       "    <tr>\n",
       "      <th>890</th>\n",
       "      <td>0</td>\n",
       "      <td>3</td>\n",
       "      <td>32</td>\n",
       "      <td>0</td>\n",
       "      <td>0</td>\n",
       "      <td>7.7500</td>\n",
       "      <td>1</td>\n",
       "      <td>2</td>\n",
       "    </tr>\n",
       "  </tbody>\n",
       "</table>\n",
       "<p>891 rows × 8 columns</p>\n",
       "</div>"
      ],
      "text/plain": [
       "     Survived  Pclass  Age  SibSp  Parch     Fare  Sex_new  Embarked_new\n",
       "0           0       3   22      1      0   7.2500        1             0\n",
       "1           1       1   38      1      0  71.2833        0             1\n",
       "2           1       3   26      0      0   7.9250        0             0\n",
       "3           1       1   35      1      0  53.1000        0             0\n",
       "4           0       3   35      0      0   8.0500        1             0\n",
       "..        ...     ...  ...    ...    ...      ...      ...           ...\n",
       "886         0       2   27      0      0  13.0000        1             0\n",
       "887         1       1   19      0      0  30.0000        0             0\n",
       "888         0       3   19      1      2  23.4500        0             0\n",
       "889         1       1   26      0      0  30.0000        1             1\n",
       "890         0       3   32      0      0   7.7500        1             2\n",
       "\n",
       "[891 rows x 8 columns]"
      ]
     },
     "execution_count": 345,
     "metadata": {},
     "output_type": "execute_result"
    }
   ],
   "source": [
    "train_2"
   ]
  },
  {
   "cell_type": "code",
   "execution_count": 346,
   "id": "cd33c906",
   "metadata": {
    "scrolled": false
   },
   "outputs": [
    {
     "data": {
      "text/plain": [
       "<AxesSubplot:>"
      ]
     },
     "execution_count": 346,
     "metadata": {},
     "output_type": "execute_result"
    },
    {
     "data": {
      "image/png": "[encoded data removed]",
      "text/plain": [
       "<Figure size 432x288 with 2 Axes>"
      ]
     },
     "metadata": {},
     "output_type": "display_data"
    }
   ],
   "source": [
    "sns.heatmap(train_2.corr(), annot = True, center=0, linewidths=.5)"
   ]
  },
  {
   "cell_type": "code",
   "execution_count": 347,
   "id": "51c9aecc",
   "metadata": {
    "scrolled": false
   },
   "outputs": [
    {
     "data": {
      "text/plain": [
       "([<matplotlib.axis.XTick at 0x1e010882910>], [Text(0, 0, '')])"
      ]
     },
     "execution_count": 347,
     "metadata": {},
     "output_type": "execute_result"
    },
    {
     "data": {
      "image/png": "[encoded data removed]",
      "text/plain": [
       "<Figure size 432x288 with 1 Axes>"
      ]
     },
     "metadata": {},
     "output_type": "display_data"
    }
   ],
   "source": [
    "sns.histplot(data=train_2, bins=2, stat=\"percent\", \n",
    "             shrink=0.6, x=\"Survived\", hue=\"Survived\")\n",
    "plt.xticks(np.arange(0, 1))"
   ]
  },
  {
   "cell_type": "markdown",
   "id": "87b78b7a",
   "metadata": {},
   "source": [
    "##### EDA for Survivors and not Survivors"
   ]
  },
  {
   "cell_type": "code",
   "execution_count": 348,
   "id": "a2efd887",
   "metadata": {},
   "outputs": [
    {
     "name": "stdout",
     "output_type": "stream",
     "text": [
      "The shape of the survived and not survived datasets are: (342, 8), (549, 8)\n"
     ]
    }
   ],
   "source": [
    "df_surv = train_2.loc[(train_2[\"Survived\"] == 1)] \n",
    "df_nsurv = train_2.loc[(train_2[\"Survived\"] == 0)]\n",
    "print(f\"The shape of the survived and not survived datasets are: {df_surv.shape}, {df_nsurv.shape}\")"
   ]
  },
  {
   "cell_type": "code",
   "execution_count": 349,
   "id": "375534cc",
   "metadata": {
    "scrolled": true
   },
   "outputs": [],
   "source": [
    "# We saw earlier that the 3 variables that seem to have the highest correlation with the variable\n",
    "# \"Survived\" are precisely: Sex_new, Fare and Pclass. Also, Embarked_new, but slightly less.\n",
    "# Now let's explore a little bit more this relationship with only the survived Dataset"
   ]
  },
  {
   "cell_type": "code",
   "execution_count": 350,
   "id": "9be65880",
   "metadata": {
    "scrolled": true
   },
   "outputs": [
    {
     "name": "stderr",
     "output_type": "stream",
     "text": [
      "*c* argument looks like a single numeric RGB or RGBA sequence, which should be avoided as value-mapping will have precedence in case its length matches with *x* & *y*.  Please use the *color* keyword-argument or provide a 2D array with a single row if you intend to specify the same RGB or RGBA value for all points.\n"
     ]
    },
    {
     "data": {
      "text/plain": [
       "<AxesSubplot:xlabel='Age', ylabel='Fare'>"
      ]
     },
     "execution_count": 350,
     "metadata": {},
     "output_type": "execute_result"
    },
    {
     "data": {
      "image/png": "[encoded data removed]",
      "text/plain": [
       "<Figure size 432x288 with 1 Axes>"
      ]
     },
     "metadata": {},
     "output_type": "display_data"
    }
   ],
   "source": [
    "df_surv.plot.scatter(x=\"Age\", y=\"Fare\")"
   ]
  },
  {
   "cell_type": "code",
   "execution_count": 351,
   "id": "b5fd3b5e",
   "metadata": {},
   "outputs": [
    {
     "data": {
      "text/plain": [
       "<AxesSubplot:xlabel='Sex_new', ylabel='Age'>"
      ]
     },
     "execution_count": 351,
     "metadata": {},
     "output_type": "execute_result"
    },
    {
     "data": {
      "image/png": "[encoded data removed]",
      "text/plain": [
       "<Figure size 432x288 with 1 Axes>"
      ]
     },
     "metadata": {},
     "output_type": "display_data"
    }
   ],
   "source": [
    "# It appears to be that amongst the survivals the ranges of age are distributed normally\n",
    "sns.boxplot(x=\"Sex_new\", y=\"Age\" ,data=df_surv)"
   ]
  },
  {
   "cell_type": "code",
   "execution_count": 352,
   "id": "1a12d386",
   "metadata": {},
   "outputs": [
    {
     "data": {
      "image/png": "[encoded data removed]",
      "text/plain": [
       "<Figure size 432x288 with 1 Axes>"
      ]
     },
     "metadata": {},
     "output_type": "display_data"
    }
   ],
   "source": [
    "# But in proportion, more women did survive, almost by double\n",
    "bar(df_surv[\"Sex_new\"])"
   ]
  },
  {
   "cell_type": "code",
   "execution_count": 353,
   "id": "cca2359a",
   "metadata": {
    "scrolled": false
   },
   "outputs": [
    {
     "data": {
      "image/png": "[encoded data removed]",
      "text/plain": [
       "<Figure size 432x288 with 1 Axes>"
      ]
     },
     "metadata": {},
     "output_type": "display_data"
    }
   ],
   "source": [
    "bar(df_nsurv[\"Sex_new\"])"
   ]
  },
  {
   "cell_type": "code",
   "execution_count": 354,
   "id": "a7afe6eb",
   "metadata": {},
   "outputs": [
    {
     "data": {
      "image/png": "[encoded data removed]",
      "text/plain": [
       "<Figure size 432x288 with 1 Axes>"
      ]
     },
     "metadata": {},
     "output_type": "display_data"
    }
   ],
   "source": [
    "# Now what about Pclass?\n",
    "bar(df_surv[\"Pclass\"])"
   ]
  },
  {
   "cell_type": "code",
   "execution_count": 355,
   "id": "a0dfa0a7",
   "metadata": {},
   "outputs": [
    {
     "data": {
      "image/png": "[encoded data removed]",
      "text/plain": [
       "<Figure size 432x288 with 1 Axes>"
      ]
     },
     "metadata": {},
     "output_type": "display_data"
    }
   ],
   "source": [
    "# The disproportion is not so visible, but still those of the lower class have less odds to survive.\n",
    "bar(df_nsurv[\"Pclass\"])"
   ]
  },
  {
   "cell_type": "markdown",
   "id": "1ccbf934",
   "metadata": {},
   "source": [
    "##### Anomaly detection"
   ]
  },
  {
   "cell_type": "code",
   "execution_count": 356,
   "id": "c9e62f80",
   "metadata": {},
   "outputs": [
    {
     "data": {
      "text/plain": [
       "<AxesSubplot:xlabel='Survived', ylabel='Fare'>"
      ]
     },
     "execution_count": 356,
     "metadata": {},
     "output_type": "execute_result"
    },
    {
     "data": {
      "image/png": "[encoded data removed]",
      "text/plain": [
       "<Figure size 432x288 with 1 Axes>"
      ]
     },
     "metadata": {},
     "output_type": "display_data"
    }
   ],
   "source": [
    "# But the msot important analysis to tackle the hypothesis whether it is possible that higher price\n",
    "# plays a role in survival is true is to compare Survived with Fare. However, one thing must be noticed,\n",
    "# We already saw how Fare is correlated to Pclass.\n",
    "sns.boxplot(x=\"Survived\", y=\"Fare\" ,data=train_2)"
   ]
  },
  {
   "cell_type": "code",
   "execution_count": 357,
   "id": "c48a73e6",
   "metadata": {},
   "outputs": [],
   "source": [
    "# Let's remove the outliers to get a broader insight of what's going on\n",
    "train_c = train_2[train_2[\"Fare\"] < 120]"
   ]
  },
  {
   "cell_type": "code",
   "execution_count": 358,
   "id": "465d336c",
   "metadata": {},
   "outputs": [
    {
     "data": {
      "text/plain": [
       "<AxesSubplot:xlabel='Survived', ylabel='Fare'>"
      ]
     },
     "execution_count": 358,
     "metadata": {},
     "output_type": "execute_result"
    },
    {
     "data": {
      "image/png": "[encoded data removed]",
      "text/plain": [
       "<Figure size 432x288 with 1 Axes>"
      ]
     },
     "metadata": {},
     "output_type": "display_data"
    }
   ],
   "source": [
    "sns.boxplot(x=\"Survived\", y=\"Fare\" ,data=train_c)"
   ]
  },
  {
   "cell_type": "code",
   "execution_count": 359,
   "id": "8941c736",
   "metadata": {},
   "outputs": [],
   "source": [
    "# It seems to be that indeed, the higher the fare, the higher the probability of surviving."
   ]
  },
  {
   "cell_type": "markdown",
   "id": "5423d860",
   "metadata": {},
   "source": [
    "##### Model building"
   ]
  },
  {
   "cell_type": "code",
   "execution_count": 360,
   "id": "5d0d1593",
   "metadata": {},
   "outputs": [],
   "source": [
    "y = train_2[\"Survived\"]\n",
    "x = train_2.drop([\"Survived\"], axis=1)"
   ]
  },
  {
   "cell_type": "code",
   "execution_count": 361,
   "id": "0c385dc1",
   "metadata": {},
   "outputs": [],
   "source": [
    "X_train, X_test, y_train, y_test = train_test_split(x, y, test_size=0.30)"
   ]
  },
  {
   "cell_type": "code",
   "execution_count": 362,
   "id": "a3cc94a3",
   "metadata": {},
   "outputs": [
    {
     "name": "stdout",
     "output_type": "stream",
     "text": [
      "Learning rate set to 0.008417\n",
      "0:\tlearn: 0.6865817\ttotal: 3.99ms\tremaining: 3.99s\n",
      "1:\tlearn: 0.6811274\ttotal: 5.13ms\tremaining: 2.56s\n",
      "2:\tlearn: 0.6776798\ttotal: 5.84ms\tremaining: 1.94s\n",
      "3:\tlearn: 0.6743957\ttotal: 6.46ms\tremaining: 1.61s\n",
      "4:\tlearn: 0.6697655\ttotal: 7.14ms\tremaining: 1.42s\n",
      "5:\tlearn: 0.6638820\ttotal: 8.34ms\tremaining: 1.38s\n",
      "6:\tlearn: 0.6582899\ttotal: 9.11ms\tremaining: 1.29s\n",
      "7:\tlearn: 0.6544633\ttotal: 9.87ms\tremaining: 1.22s\n",
      "8:\tlearn: 0.6496170\ttotal: 11ms\tremaining: 1.22s\n",
      "9:\tlearn: 0.6442821\ttotal: 12.1ms\tremaining: 1.2s\n",
      "10:\tlearn: 0.6390147\ttotal: 13.3ms\tremaining: 1.2s\n",
      "11:\tlearn: 0.6337575\ttotal: 14.5ms\tremaining: 1.19s\n",
      "12:\tlearn: 0.6286741\ttotal: 15.6ms\tremaining: 1.19s\n",
      "13:\tlearn: 0.6231638\ttotal: 17.5ms\tremaining: 1.23s\n",
      "14:\tlearn: 0.6189194\ttotal: 18.4ms\tremaining: 1.21s\n",
      "15:\tlearn: 0.6143657\ttotal: 19.5ms\tremaining: 1.2s\n",
      "16:\tlearn: 0.6106820\ttotal: 20.4ms\tremaining: 1.18s\n",
      "17:\tlearn: 0.6063983\ttotal: 21.5ms\tremaining: 1.18s\n",
      "18:\tlearn: 0.6021590\ttotal: 22.7ms\tremaining: 1.17s\n",
      "19:\tlearn: 0.5980351\ttotal: 23.9ms\tremaining: 1.17s\n",
      "20:\tlearn: 0.5957874\ttotal: 24.4ms\tremaining: 1.14s\n",
      "21:\tlearn: 0.5920226\ttotal: 25.6ms\tremaining: 1.14s\n",
      "22:\tlearn: 0.5883931\ttotal: 26.8ms\tremaining: 1.14s\n",
      "23:\tlearn: 0.5843357\ttotal: 28ms\tremaining: 1.14s\n",
      "24:\tlearn: 0.5806998\ttotal: 29.1ms\tremaining: 1.14s\n",
      "25:\tlearn: 0.5770247\ttotal: 30.2ms\tremaining: 1.13s\n",
      "26:\tlearn: 0.5750033\ttotal: 30.9ms\tremaining: 1.11s\n",
      "27:\tlearn: 0.5712402\ttotal: 32.3ms\tremaining: 1.12s\n",
      "28:\tlearn: 0.5693008\ttotal: 33.2ms\tremaining: 1.11s\n",
      "29:\tlearn: 0.5654036\ttotal: 34.4ms\tremaining: 1.11s\n",
      "30:\tlearn: 0.5630352\ttotal: 35.3ms\tremaining: 1.1s\n",
      "31:\tlearn: 0.5600183\ttotal: 36ms\tremaining: 1.09s\n",
      "32:\tlearn: 0.5574469\ttotal: 36.8ms\tremaining: 1.08s\n",
      "33:\tlearn: 0.5557439\ttotal: 37.3ms\tremaining: 1.06s\n",
      "34:\tlearn: 0.5523104\ttotal: 38.6ms\tremaining: 1.06s\n",
      "35:\tlearn: 0.5490115\ttotal: 39.7ms\tremaining: 1.06s\n",
      "36:\tlearn: 0.5474151\ttotal: 40.3ms\tremaining: 1.05s\n",
      "37:\tlearn: 0.5446168\ttotal: 41.5ms\tremaining: 1.05s\n",
      "38:\tlearn: 0.5413017\ttotal: 42.6ms\tremaining: 1.05s\n",
      "39:\tlearn: 0.5384398\ttotal: 43.7ms\tremaining: 1.05s\n",
      "40:\tlearn: 0.5369756\ttotal: 44.3ms\tremaining: 1.04s\n",
      "41:\tlearn: 0.5340399\ttotal: 45.5ms\tremaining: 1.04s\n",
      "42:\tlearn: 0.5314448\ttotal: 47ms\tremaining: 1.05s\n",
      "43:\tlearn: 0.5297972\ttotal: 48ms\tremaining: 1.04s\n",
      "44:\tlearn: 0.5266214\ttotal: 49.2ms\tremaining: 1.04s\n",
      "45:\tlearn: 0.5243671\ttotal: 50ms\tremaining: 1.04s\n",
      "46:\tlearn: 0.5217938\ttotal: 51.2ms\tremaining: 1.04s\n",
      "47:\tlearn: 0.5195938\ttotal: 52.3ms\tremaining: 1.04s\n",
      "48:\tlearn: 0.5172692\ttotal: 53.5ms\tremaining: 1.04s\n",
      "49:\tlearn: 0.5147302\ttotal: 54.7ms\tremaining: 1.04s\n",
      "50:\tlearn: 0.5126183\ttotal: 55.5ms\tremaining: 1.03s\n",
      "51:\tlearn: 0.5108282\ttotal: 56.3ms\tremaining: 1.02s\n",
      "52:\tlearn: 0.5085437\ttotal: 57.5ms\tremaining: 1.03s\n",
      "53:\tlearn: 0.5058057\ttotal: 58.6ms\tremaining: 1.03s\n",
      "54:\tlearn: 0.5033405\ttotal: 59.8ms\tremaining: 1.03s\n",
      "55:\tlearn: 0.5010424\ttotal: 60.9ms\tremaining: 1.03s\n",
      "56:\tlearn: 0.4989263\ttotal: 62.1ms\tremaining: 1.03s\n",
      "57:\tlearn: 0.4969438\ttotal: 63.7ms\tremaining: 1.03s\n",
      "58:\tlearn: 0.4956853\ttotal: 64.6ms\tremaining: 1.03s\n",
      "59:\tlearn: 0.4938607\ttotal: 65.5ms\tremaining: 1.03s\n",
      "60:\tlearn: 0.4919744\ttotal: 66.4ms\tremaining: 1.02s\n",
      "61:\tlearn: 0.4898398\ttotal: 67.6ms\tremaining: 1.02s\n",
      "62:\tlearn: 0.4873842\ttotal: 68.7ms\tremaining: 1.02s\n",
      "63:\tlearn: 0.4859497\ttotal: 69.8ms\tremaining: 1.02s\n",
      "64:\tlearn: 0.4837658\ttotal: 70.9ms\tremaining: 1.02s\n",
      "65:\tlearn: 0.4819165\ttotal: 72.2ms\tremaining: 1.02s\n",
      "66:\tlearn: 0.4810858\ttotal: 72.8ms\tremaining: 1.01s\n",
      "67:\tlearn: 0.4802703\ttotal: 73.3ms\tremaining: 1s\n",
      "68:\tlearn: 0.4783286\ttotal: 74.5ms\tremaining: 1s\n",
      "69:\tlearn: 0.4765209\ttotal: 75.6ms\tremaining: 1s\n",
      "70:\tlearn: 0.4744854\ttotal: 76.7ms\tremaining: 1s\n",
      "71:\tlearn: 0.4725434\ttotal: 78.5ms\tremaining: 1.01s\n",
      "72:\tlearn: 0.4707827\ttotal: 79.7ms\tremaining: 1.01s\n",
      "73:\tlearn: 0.4695357\ttotal: 80.4ms\tremaining: 1.01s\n",
      "74:\tlearn: 0.4682762\ttotal: 81.2ms\tremaining: 1s\n",
      "75:\tlearn: 0.4671410\ttotal: 82.1ms\tremaining: 998ms\n",
      "76:\tlearn: 0.4662108\ttotal: 83ms\tremaining: 995ms\n",
      "77:\tlearn: 0.4646057\ttotal: 84.2ms\tremaining: 995ms\n",
      "78:\tlearn: 0.4629856\ttotal: 85.3ms\tremaining: 995ms\n",
      "79:\tlearn: 0.4614662\ttotal: 86.4ms\tremaining: 994ms\n",
      "80:\tlearn: 0.4596007\ttotal: 87.6ms\tremaining: 994ms\n",
      "81:\tlearn: 0.4579979\ttotal: 88.8ms\tremaining: 995ms\n",
      "82:\tlearn: 0.4569122\ttotal: 90ms\tremaining: 995ms\n",
      "83:\tlearn: 0.4561004\ttotal: 90.8ms\tremaining: 990ms\n",
      "84:\tlearn: 0.4545948\ttotal: 92ms\tremaining: 990ms\n",
      "85:\tlearn: 0.4528235\ttotal: 93.7ms\tremaining: 996ms\n",
      "86:\tlearn: 0.4512718\ttotal: 94.9ms\tremaining: 996ms\n",
      "87:\tlearn: 0.4494084\ttotal: 96ms\tremaining: 995ms\n",
      "88:\tlearn: 0.4479830\ttotal: 97.1ms\tremaining: 994ms\n",
      "89:\tlearn: 0.4466149\ttotal: 98.2ms\tremaining: 993ms\n",
      "90:\tlearn: 0.4454917\ttotal: 99.3ms\tremaining: 992ms\n",
      "91:\tlearn: 0.4446292\ttotal: 100ms\tremaining: 988ms\n",
      "92:\tlearn: 0.4431007\ttotal: 101ms\tremaining: 987ms\n",
      "93:\tlearn: 0.4420886\ttotal: 102ms\tremaining: 986ms\n",
      "94:\tlearn: 0.4413034\ttotal: 103ms\tremaining: 982ms\n",
      "95:\tlearn: 0.4398636\ttotal: 104ms\tremaining: 981ms\n",
      "96:\tlearn: 0.4383635\ttotal: 105ms\tremaining: 980ms\n",
      "97:\tlearn: 0.4373223\ttotal: 106ms\tremaining: 979ms\n",
      "98:\tlearn: 0.4362232\ttotal: 108ms\tremaining: 978ms\n",
      "99:\tlearn: 0.4349967\ttotal: 109ms\tremaining: 984ms\n",
      "100:\tlearn: 0.4337034\ttotal: 111ms\tremaining: 985ms\n",
      "101:\tlearn: 0.4327785\ttotal: 112ms\tremaining: 984ms\n",
      "102:\tlearn: 0.4314954\ttotal: 113ms\tremaining: 983ms\n",
      "103:\tlearn: 0.4301817\ttotal: 114ms\tremaining: 982ms\n",
      "104:\tlearn: 0.4292920\ttotal: 115ms\tremaining: 981ms\n",
      "105:\tlearn: 0.4281499\ttotal: 116ms\tremaining: 980ms\n",
      "106:\tlearn: 0.4273608\ttotal: 117ms\tremaining: 979ms\n",
      "107:\tlearn: 0.4262365\ttotal: 119ms\tremaining: 979ms\n",
      "108:\tlearn: 0.4252706\ttotal: 120ms\tremaining: 978ms\n",
      "109:\tlearn: 0.4242655\ttotal: 121ms\tremaining: 977ms\n",
      "110:\tlearn: 0.4233914\ttotal: 122ms\tremaining: 976ms\n",
      "111:\tlearn: 0.4220818\ttotal: 123ms\tremaining: 975ms\n",
      "112:\tlearn: 0.4209343\ttotal: 125ms\tremaining: 978ms\n",
      "113:\tlearn: 0.4201654\ttotal: 126ms\tremaining: 977ms\n",
      "114:\tlearn: 0.4196257\ttotal: 126ms\tremaining: 973ms\n",
      "115:\tlearn: 0.4193348\ttotal: 127ms\tremaining: 968ms\n",
      "116:\tlearn: 0.4185319\ttotal: 128ms\tremaining: 966ms\n",
      "117:\tlearn: 0.4176817\ttotal: 129ms\tremaining: 965ms\n",
      "118:\tlearn: 0.4168721\ttotal: 130ms\tremaining: 964ms\n",
      "119:\tlearn: 0.4158610\ttotal: 131ms\tremaining: 963ms\n",
      "120:\tlearn: 0.4155022\ttotal: 132ms\tremaining: 959ms\n",
      "121:\tlearn: 0.4142946\ttotal: 133ms\tremaining: 958ms\n",
      "122:\tlearn: 0.4138297\ttotal: 134ms\tremaining: 957ms\n",
      "123:\tlearn: 0.4129054\ttotal: 135ms\tremaining: 956ms\n",
      "124:\tlearn: 0.4120468\ttotal: 137ms\tremaining: 956ms\n",
      "125:\tlearn: 0.4109263\ttotal: 138ms\tremaining: 955ms\n",
      "126:\tlearn: 0.4100493\ttotal: 139ms\tremaining: 956ms\n",
      "127:\tlearn: 0.4093847\ttotal: 140ms\tremaining: 955ms\n",
      "128:\tlearn: 0.4087541\ttotal: 141ms\tremaining: 954ms\n",
      "129:\tlearn: 0.4081392\ttotal: 143ms\tremaining: 954ms\n",
      "130:\tlearn: 0.4076834\ttotal: 143ms\tremaining: 950ms\n",
      "131:\tlearn: 0.4067434\ttotal: 144ms\tremaining: 949ms\n",
      "132:\tlearn: 0.4061175\ttotal: 146ms\tremaining: 949ms\n",
      "133:\tlearn: 0.4053720\ttotal: 147ms\tremaining: 948ms\n",
      "134:\tlearn: 0.4047277\ttotal: 148ms\tremaining: 947ms\n",
      "135:\tlearn: 0.4042074\ttotal: 149ms\tremaining: 946ms\n",
      "136:\tlearn: 0.4034765\ttotal: 150ms\tremaining: 946ms\n",
      "137:\tlearn: 0.4026869\ttotal: 151ms\tremaining: 945ms\n",
      "138:\tlearn: 0.4020697\ttotal: 152ms\tremaining: 943ms\n",
      "139:\tlearn: 0.4018882\ttotal: 153ms\tremaining: 939ms\n",
      "140:\tlearn: 0.4013248\ttotal: 154ms\tremaining: 937ms\n",
      "141:\tlearn: 0.4008397\ttotal: 155ms\tremaining: 939ms\n",
      "142:\tlearn: 0.4003344\ttotal: 156ms\tremaining: 936ms\n",
      "143:\tlearn: 0.3995656\ttotal: 157ms\tremaining: 935ms\n",
      "144:\tlearn: 0.3994015\ttotal: 158ms\tremaining: 931ms\n",
      "145:\tlearn: 0.3988453\ttotal: 159ms\tremaining: 930ms\n",
      "146:\tlearn: 0.3982189\ttotal: 160ms\tremaining: 929ms\n",
      "147:\tlearn: 0.3976259\ttotal: 161ms\tremaining: 928ms\n",
      "148:\tlearn: 0.3968176\ttotal: 162ms\tremaining: 927ms\n",
      "149:\tlearn: 0.3962501\ttotal: 163ms\tremaining: 926ms\n",
      "150:\tlearn: 0.3953333\ttotal: 165ms\tremaining: 926ms\n",
      "151:\tlearn: 0.3946303\ttotal: 166ms\tremaining: 927ms\n",
      "152:\tlearn: 0.3938393\ttotal: 167ms\tremaining: 927ms\n",
      "153:\tlearn: 0.3931893\ttotal: 169ms\tremaining: 928ms\n",
      "154:\tlearn: 0.3930397\ttotal: 170ms\tremaining: 927ms\n",
      "155:\tlearn: 0.3927872\ttotal: 171ms\tremaining: 926ms\n",
      "156:\tlearn: 0.3922267\ttotal: 172ms\tremaining: 926ms\n",
      "157:\tlearn: 0.3917100\ttotal: 174ms\tremaining: 925ms\n",
      "158:\tlearn: 0.3911125\ttotal: 175ms\tremaining: 925ms\n",
      "159:\tlearn: 0.3903106\ttotal: 176ms\tremaining: 924ms\n",
      "160:\tlearn: 0.3897616\ttotal: 177ms\tremaining: 924ms\n",
      "161:\tlearn: 0.3895423\ttotal: 178ms\tremaining: 922ms\n",
      "162:\tlearn: 0.3886303\ttotal: 180ms\tremaining: 922ms\n",
      "163:\tlearn: 0.3881389\ttotal: 181ms\tremaining: 922ms\n",
      "164:\tlearn: 0.3876086\ttotal: 182ms\tremaining: 922ms\n",
      "165:\tlearn: 0.3870256\ttotal: 183ms\tremaining: 921ms\n",
      "166:\tlearn: 0.3866935\ttotal: 185ms\tremaining: 921ms\n",
      "167:\tlearn: 0.3862825\ttotal: 186ms\tremaining: 922ms\n",
      "168:\tlearn: 0.3857574\ttotal: 187ms\tremaining: 921ms\n",
      "169:\tlearn: 0.3854182\ttotal: 188ms\tremaining: 919ms\n",
      "170:\tlearn: 0.3848949\ttotal: 189ms\tremaining: 918ms\n",
      "171:\tlearn: 0.3844070\ttotal: 191ms\tremaining: 920ms\n",
      "172:\tlearn: 0.3840702\ttotal: 193ms\tremaining: 921ms\n",
      "173:\tlearn: 0.3835645\ttotal: 194ms\tremaining: 922ms\n",
      "174:\tlearn: 0.3829571\ttotal: 196ms\tremaining: 922ms\n",
      "175:\tlearn: 0.3822963\ttotal: 197ms\tremaining: 922ms\n",
      "176:\tlearn: 0.3817246\ttotal: 198ms\tremaining: 923ms\n",
      "177:\tlearn: 0.3813551\ttotal: 201ms\tremaining: 928ms\n",
      "178:\tlearn: 0.3807782\ttotal: 202ms\tremaining: 927ms\n",
      "179:\tlearn: 0.3803500\ttotal: 203ms\tremaining: 926ms\n",
      "180:\tlearn: 0.3800160\ttotal: 204ms\tremaining: 925ms\n",
      "181:\tlearn: 0.3797306\ttotal: 205ms\tremaining: 922ms\n",
      "182:\tlearn: 0.3795013\ttotal: 206ms\tremaining: 919ms\n",
      "183:\tlearn: 0.3791727\ttotal: 207ms\tremaining: 918ms\n",
      "184:\tlearn: 0.3786078\ttotal: 208ms\tremaining: 917ms\n",
      "185:\tlearn: 0.3783396\ttotal: 209ms\tremaining: 915ms\n",
      "186:\tlearn: 0.3782204\ttotal: 210ms\tremaining: 912ms\n",
      "187:\tlearn: 0.3776123\ttotal: 211ms\tremaining: 910ms\n",
      "188:\tlearn: 0.3769715\ttotal: 212ms\tremaining: 909ms\n",
      "189:\tlearn: 0.3767790\ttotal: 213ms\tremaining: 906ms\n",
      "190:\tlearn: 0.3761807\ttotal: 214ms\tremaining: 905ms\n",
      "191:\tlearn: 0.3758569\ttotal: 215ms\tremaining: 905ms\n",
      "192:\tlearn: 0.3753756\ttotal: 216ms\tremaining: 905ms\n",
      "193:\tlearn: 0.3751324\ttotal: 217ms\tremaining: 903ms\n",
      "194:\tlearn: 0.3749995\ttotal: 218ms\tremaining: 901ms\n",
      "195:\tlearn: 0.3743906\ttotal: 219ms\tremaining: 900ms\n",
      "196:\tlearn: 0.3740757\ttotal: 220ms\tremaining: 898ms\n",
      "197:\tlearn: 0.3737431\ttotal: 222ms\tremaining: 897ms\n",
      "198:\tlearn: 0.3736086\ttotal: 222ms\tremaining: 895ms\n",
      "199:\tlearn: 0.3729885\ttotal: 223ms\tremaining: 893ms\n",
      "200:\tlearn: 0.3725653\ttotal: 224ms\tremaining: 892ms\n",
      "201:\tlearn: 0.3722080\ttotal: 225ms\tremaining: 891ms\n",
      "202:\tlearn: 0.3716341\ttotal: 227ms\tremaining: 890ms\n",
      "203:\tlearn: 0.3712203\ttotal: 228ms\tremaining: 889ms\n",
      "204:\tlearn: 0.3709840\ttotal: 229ms\tremaining: 887ms\n",
      "205:\tlearn: 0.3708048\ttotal: 230ms\tremaining: 885ms\n",
      "206:\tlearn: 0.3702060\ttotal: 231ms\tremaining: 886ms\n",
      "207:\tlearn: 0.3697688\ttotal: 232ms\tremaining: 885ms\n",
      "208:\tlearn: 0.3692120\ttotal: 234ms\tremaining: 884ms\n",
      "209:\tlearn: 0.3688330\ttotal: 235ms\tremaining: 883ms\n",
      "210:\tlearn: 0.3684579\ttotal: 236ms\tremaining: 882ms\n",
      "211:\tlearn: 0.3682027\ttotal: 237ms\tremaining: 881ms\n",
      "212:\tlearn: 0.3680089\ttotal: 238ms\tremaining: 879ms\n",
      "213:\tlearn: 0.3676059\ttotal: 239ms\tremaining: 878ms\n",
      "214:\tlearn: 0.3675066\ttotal: 240ms\tremaining: 876ms\n",
      "215:\tlearn: 0.3672116\ttotal: 241ms\tremaining: 875ms\n",
      "216:\tlearn: 0.3667118\ttotal: 242ms\tremaining: 874ms\n",
      "217:\tlearn: 0.3661419\ttotal: 243ms\tremaining: 872ms\n",
      "218:\tlearn: 0.3655960\ttotal: 244ms\tremaining: 871ms\n",
      "219:\tlearn: 0.3650998\ttotal: 245ms\tremaining: 870ms\n",
      "220:\tlearn: 0.3649341\ttotal: 247ms\tremaining: 871ms\n",
      "221:\tlearn: 0.3648018\ttotal: 248ms\tremaining: 870ms\n",
      "222:\tlearn: 0.3644848\ttotal: 249ms\tremaining: 868ms\n",
      "223:\tlearn: 0.3643399\ttotal: 250ms\tremaining: 866ms\n",
      "224:\tlearn: 0.3640394\ttotal: 251ms\tremaining: 865ms\n",
      "225:\tlearn: 0.3636435\ttotal: 252ms\tremaining: 864ms\n",
      "226:\tlearn: 0.3631493\ttotal: 253ms\tremaining: 862ms\n",
      "227:\tlearn: 0.3626760\ttotal: 254ms\tremaining: 861ms\n",
      "228:\tlearn: 0.3623650\ttotal: 255ms\tremaining: 860ms\n",
      "229:\tlearn: 0.3618900\ttotal: 257ms\tremaining: 859ms\n",
      "230:\tlearn: 0.3618628\ttotal: 257ms\tremaining: 856ms\n",
      "231:\tlearn: 0.3616950\ttotal: 258ms\tremaining: 854ms\n",
      "232:\tlearn: 0.3614064\ttotal: 259ms\tremaining: 852ms\n",
      "233:\tlearn: 0.3611844\ttotal: 260ms\tremaining: 851ms\n",
      "234:\tlearn: 0.3609028\ttotal: 262ms\tremaining: 852ms\n",
      "235:\tlearn: 0.3605896\ttotal: 263ms\tremaining: 851ms\n",
      "236:\tlearn: 0.3602017\ttotal: 264ms\tremaining: 850ms\n",
      "237:\tlearn: 0.3597192\ttotal: 265ms\tremaining: 849ms\n",
      "238:\tlearn: 0.3594940\ttotal: 266ms\tremaining: 848ms\n",
      "239:\tlearn: 0.3593418\ttotal: 267ms\tremaining: 847ms\n",
      "240:\tlearn: 0.3591563\ttotal: 269ms\tremaining: 846ms\n",
      "241:\tlearn: 0.3587387\ttotal: 270ms\tremaining: 845ms\n",
      "242:\tlearn: 0.3586153\ttotal: 271ms\tremaining: 843ms\n",
      "243:\tlearn: 0.3581092\ttotal: 272ms\tremaining: 842ms\n",
      "244:\tlearn: 0.3579409\ttotal: 273ms\tremaining: 840ms\n",
      "245:\tlearn: 0.3576304\ttotal: 274ms\tremaining: 839ms\n",
      "246:\tlearn: 0.3575756\ttotal: 275ms\tremaining: 837ms\n",
      "247:\tlearn: 0.3575497\ttotal: 275ms\tremaining: 834ms\n",
      "248:\tlearn: 0.3571342\ttotal: 277ms\tremaining: 834ms\n",
      "249:\tlearn: 0.3568735\ttotal: 278ms\tremaining: 834ms\n",
      "250:\tlearn: 0.3568487\ttotal: 278ms\tremaining: 831ms\n",
      "251:\tlearn: 0.3564135\ttotal: 280ms\tremaining: 830ms\n",
      "252:\tlearn: 0.3561706\ttotal: 281ms\tremaining: 829ms\n",
      "253:\tlearn: 0.3558393\ttotal: 282ms\tremaining: 828ms\n",
      "254:\tlearn: 0.3556493\ttotal: 283ms\tremaining: 826ms\n",
      "255:\tlearn: 0.3554098\ttotal: 284ms\tremaining: 825ms\n",
      "256:\tlearn: 0.3551579\ttotal: 285ms\tremaining: 824ms\n",
      "257:\tlearn: 0.3547672\ttotal: 286ms\tremaining: 823ms\n",
      "258:\tlearn: 0.3544858\ttotal: 287ms\tremaining: 822ms\n",
      "259:\tlearn: 0.3542323\ttotal: 288ms\tremaining: 821ms\n",
      "260:\tlearn: 0.3539772\ttotal: 289ms\tremaining: 820ms\n",
      "261:\tlearn: 0.3534828\ttotal: 291ms\tremaining: 818ms\n",
      "262:\tlearn: 0.3532131\ttotal: 292ms\tremaining: 819ms\n",
      "263:\tlearn: 0.3529519\ttotal: 293ms\tremaining: 818ms\n",
      "264:\tlearn: 0.3526788\ttotal: 295ms\tremaining: 817ms\n",
      "265:\tlearn: 0.3523428\ttotal: 296ms\tremaining: 816ms\n",
      "266:\tlearn: 0.3522544\ttotal: 296ms\tremaining: 814ms\n",
      "267:\tlearn: 0.3520030\ttotal: 297ms\tremaining: 812ms\n",
      "268:\tlearn: 0.3517366\ttotal: 299ms\tremaining: 811ms\n",
      "269:\tlearn: 0.3515258\ttotal: 300ms\tremaining: 810ms\n",
      "270:\tlearn: 0.3513025\ttotal: 301ms\tremaining: 809ms\n",
      "271:\tlearn: 0.3510263\ttotal: 302ms\tremaining: 808ms\n",
      "272:\tlearn: 0.3507969\ttotal: 303ms\tremaining: 807ms\n",
      "273:\tlearn: 0.3503296\ttotal: 304ms\tremaining: 806ms\n",
      "274:\tlearn: 0.3499459\ttotal: 305ms\tremaining: 804ms\n",
      "275:\tlearn: 0.3498347\ttotal: 306ms\tremaining: 803ms\n",
      "276:\tlearn: 0.3496504\ttotal: 307ms\tremaining: 802ms\n",
      "277:\tlearn: 0.3494358\ttotal: 309ms\tremaining: 802ms\n",
      "278:\tlearn: 0.3491824\ttotal: 310ms\tremaining: 801ms\n",
      "279:\tlearn: 0.3490099\ttotal: 311ms\tremaining: 800ms\n",
      "280:\tlearn: 0.3488112\ttotal: 312ms\tremaining: 799ms\n",
      "281:\tlearn: 0.3486658\ttotal: 313ms\tremaining: 797ms\n",
      "282:\tlearn: 0.3484256\ttotal: 314ms\tremaining: 796ms\n",
      "283:\tlearn: 0.3483010\ttotal: 315ms\tremaining: 795ms\n",
      "284:\tlearn: 0.3480678\ttotal: 316ms\tremaining: 794ms\n",
      "285:\tlearn: 0.3477398\ttotal: 318ms\tremaining: 793ms\n",
      "286:\tlearn: 0.3473816\ttotal: 319ms\tremaining: 792ms\n",
      "287:\tlearn: 0.3472703\ttotal: 319ms\tremaining: 790ms\n",
      "288:\tlearn: 0.3470882\ttotal: 320ms\tremaining: 788ms\n",
      "289:\tlearn: 0.3468746\ttotal: 322ms\tremaining: 787ms\n",
      "290:\tlearn: 0.3465861\ttotal: 323ms\tremaining: 787ms\n",
      "291:\tlearn: 0.3462647\ttotal: 324ms\tremaining: 786ms\n",
      "292:\tlearn: 0.3459185\ttotal: 325ms\tremaining: 785ms\n",
      "293:\tlearn: 0.3456632\ttotal: 327ms\tremaining: 784ms\n",
      "294:\tlearn: 0.3455096\ttotal: 328ms\tremaining: 783ms\n",
      "295:\tlearn: 0.3453526\ttotal: 329ms\tremaining: 782ms\n",
      "296:\tlearn: 0.3450564\ttotal: 330ms\tremaining: 781ms\n",
      "297:\tlearn: 0.3449874\ttotal: 331ms\tremaining: 779ms\n",
      "298:\tlearn: 0.3449706\ttotal: 331ms\tremaining: 777ms\n",
      "299:\tlearn: 0.3448466\ttotal: 333ms\tremaining: 776ms\n",
      "300:\tlearn: 0.3446115\ttotal: 334ms\tremaining: 775ms\n",
      "301:\tlearn: 0.3443259\ttotal: 335ms\tremaining: 774ms\n",
      "302:\tlearn: 0.3440179\ttotal: 336ms\tremaining: 773ms\n"
     ]
    },
    {
     "name": "stdout",
     "output_type": "stream",
     "text": [
      "303:\tlearn: 0.3437823\ttotal: 338ms\tremaining: 774ms\n",
      "304:\tlearn: 0.3435137\ttotal: 340ms\tremaining: 775ms\n",
      "305:\tlearn: 0.3431582\ttotal: 341ms\tremaining: 774ms\n",
      "306:\tlearn: 0.3429868\ttotal: 342ms\tremaining: 772ms\n",
      "307:\tlearn: 0.3426807\ttotal: 343ms\tremaining: 771ms\n",
      "308:\tlearn: 0.3424466\ttotal: 344ms\tremaining: 770ms\n",
      "309:\tlearn: 0.3423285\ttotal: 346ms\tremaining: 769ms\n",
      "310:\tlearn: 0.3422653\ttotal: 346ms\tremaining: 767ms\n",
      "311:\tlearn: 0.3420173\ttotal: 347ms\tremaining: 766ms\n",
      "312:\tlearn: 0.3416253\ttotal: 348ms\tremaining: 765ms\n",
      "313:\tlearn: 0.3416146\ttotal: 349ms\tremaining: 762ms\n",
      "314:\tlearn: 0.3414713\ttotal: 350ms\tremaining: 761ms\n",
      "315:\tlearn: 0.3411798\ttotal: 351ms\tremaining: 760ms\n",
      "316:\tlearn: 0.3409225\ttotal: 352ms\tremaining: 759ms\n",
      "317:\tlearn: 0.3405929\ttotal: 354ms\tremaining: 759ms\n",
      "318:\tlearn: 0.3403239\ttotal: 355ms\tremaining: 758ms\n",
      "319:\tlearn: 0.3400475\ttotal: 356ms\tremaining: 757ms\n",
      "320:\tlearn: 0.3397676\ttotal: 357ms\tremaining: 756ms\n",
      "321:\tlearn: 0.3396243\ttotal: 358ms\tremaining: 755ms\n",
      "322:\tlearn: 0.3394925\ttotal: 360ms\tremaining: 754ms\n",
      "323:\tlearn: 0.3392058\ttotal: 361ms\tremaining: 753ms\n",
      "324:\tlearn: 0.3389154\ttotal: 362ms\tremaining: 752ms\n",
      "325:\tlearn: 0.3386527\ttotal: 363ms\tremaining: 751ms\n",
      "326:\tlearn: 0.3382503\ttotal: 364ms\tremaining: 750ms\n",
      "327:\tlearn: 0.3379307\ttotal: 366ms\tremaining: 749ms\n",
      "328:\tlearn: 0.3376241\ttotal: 367ms\tremaining: 748ms\n",
      "329:\tlearn: 0.3375174\ttotal: 367ms\tremaining: 746ms\n",
      "330:\tlearn: 0.3373828\ttotal: 369ms\tremaining: 746ms\n",
      "331:\tlearn: 0.3371011\ttotal: 370ms\tremaining: 745ms\n",
      "332:\tlearn: 0.3368106\ttotal: 371ms\tremaining: 744ms\n",
      "333:\tlearn: 0.3366781\ttotal: 373ms\tremaining: 743ms\n",
      "334:\tlearn: 0.3364245\ttotal: 374ms\tremaining: 742ms\n",
      "335:\tlearn: 0.3362308\ttotal: 375ms\tremaining: 741ms\n",
      "336:\tlearn: 0.3360636\ttotal: 376ms\tremaining: 739ms\n",
      "337:\tlearn: 0.3355891\ttotal: 377ms\tremaining: 738ms\n",
      "338:\tlearn: 0.3354425\ttotal: 378ms\tremaining: 737ms\n",
      "339:\tlearn: 0.3351132\ttotal: 379ms\tremaining: 736ms\n",
      "340:\tlearn: 0.3350419\ttotal: 380ms\tremaining: 735ms\n",
      "341:\tlearn: 0.3347221\ttotal: 381ms\tremaining: 734ms\n",
      "342:\tlearn: 0.3346659\ttotal: 382ms\tremaining: 732ms\n",
      "343:\tlearn: 0.3343621\ttotal: 383ms\tremaining: 731ms\n",
      "344:\tlearn: 0.3340973\ttotal: 385ms\tremaining: 731ms\n",
      "345:\tlearn: 0.3338898\ttotal: 386ms\tremaining: 730ms\n",
      "346:\tlearn: 0.3337341\ttotal: 387ms\tremaining: 728ms\n",
      "347:\tlearn: 0.3335005\ttotal: 388ms\tremaining: 727ms\n",
      "348:\tlearn: 0.3332520\ttotal: 389ms\tremaining: 726ms\n",
      "349:\tlearn: 0.3328398\ttotal: 390ms\tremaining: 725ms\n",
      "350:\tlearn: 0.3327222\ttotal: 391ms\tremaining: 724ms\n",
      "351:\tlearn: 0.3324090\ttotal: 392ms\tremaining: 723ms\n",
      "352:\tlearn: 0.3322304\ttotal: 394ms\tremaining: 721ms\n",
      "353:\tlearn: 0.3320687\ttotal: 395ms\tremaining: 720ms\n",
      "354:\tlearn: 0.3317371\ttotal: 396ms\tremaining: 719ms\n",
      "355:\tlearn: 0.3316073\ttotal: 397ms\tremaining: 718ms\n",
      "356:\tlearn: 0.3315017\ttotal: 398ms\tremaining: 716ms\n",
      "357:\tlearn: 0.3312222\ttotal: 399ms\tremaining: 716ms\n",
      "358:\tlearn: 0.3310999\ttotal: 400ms\tremaining: 714ms\n",
      "359:\tlearn: 0.3309650\ttotal: 401ms\tremaining: 713ms\n",
      "360:\tlearn: 0.3307667\ttotal: 402ms\tremaining: 712ms\n",
      "361:\tlearn: 0.3304811\ttotal: 403ms\tremaining: 711ms\n",
      "362:\tlearn: 0.3301282\ttotal: 405ms\tremaining: 710ms\n",
      "363:\tlearn: 0.3300412\ttotal: 406ms\tremaining: 709ms\n",
      "364:\tlearn: 0.3300196\ttotal: 406ms\tremaining: 707ms\n",
      "365:\tlearn: 0.3299277\ttotal: 407ms\tremaining: 706ms\n",
      "366:\tlearn: 0.3296420\ttotal: 408ms\tremaining: 704ms\n",
      "367:\tlearn: 0.3296214\ttotal: 409ms\tremaining: 703ms\n",
      "368:\tlearn: 0.3295514\ttotal: 410ms\tremaining: 701ms\n",
      "369:\tlearn: 0.3293926\ttotal: 411ms\tremaining: 700ms\n",
      "370:\tlearn: 0.3293298\ttotal: 412ms\tremaining: 699ms\n",
      "371:\tlearn: 0.3292480\ttotal: 413ms\tremaining: 697ms\n",
      "372:\tlearn: 0.3289564\ttotal: 414ms\tremaining: 697ms\n",
      "373:\tlearn: 0.3287939\ttotal: 416ms\tremaining: 696ms\n",
      "374:\tlearn: 0.3286394\ttotal: 417ms\tremaining: 695ms\n",
      "375:\tlearn: 0.3284648\ttotal: 418ms\tremaining: 694ms\n",
      "376:\tlearn: 0.3282446\ttotal: 419ms\tremaining: 693ms\n",
      "377:\tlearn: 0.3280705\ttotal: 420ms\tremaining: 692ms\n",
      "378:\tlearn: 0.3280148\ttotal: 422ms\tremaining: 691ms\n",
      "379:\tlearn: 0.3278437\ttotal: 423ms\tremaining: 690ms\n",
      "380:\tlearn: 0.3276526\ttotal: 424ms\tremaining: 689ms\n",
      "381:\tlearn: 0.3275088\ttotal: 426ms\tremaining: 689ms\n",
      "382:\tlearn: 0.3274628\ttotal: 427ms\tremaining: 688ms\n",
      "383:\tlearn: 0.3273585\ttotal: 428ms\tremaining: 687ms\n",
      "384:\tlearn: 0.3271469\ttotal: 431ms\tremaining: 688ms\n",
      "385:\tlearn: 0.3268138\ttotal: 432ms\tremaining: 687ms\n",
      "386:\tlearn: 0.3266318\ttotal: 433ms\tremaining: 686ms\n",
      "387:\tlearn: 0.3265893\ttotal: 434ms\tremaining: 685ms\n",
      "388:\tlearn: 0.3264123\ttotal: 435ms\tremaining: 683ms\n",
      "389:\tlearn: 0.3262499\ttotal: 436ms\tremaining: 682ms\n",
      "390:\tlearn: 0.3260845\ttotal: 437ms\tremaining: 681ms\n",
      "391:\tlearn: 0.3260807\ttotal: 438ms\tremaining: 679ms\n",
      "392:\tlearn: 0.3259970\ttotal: 439ms\tremaining: 677ms\n",
      "393:\tlearn: 0.3259021\ttotal: 440ms\tremaining: 676ms\n",
      "394:\tlearn: 0.3256242\ttotal: 441ms\tremaining: 675ms\n",
      "395:\tlearn: 0.3254303\ttotal: 442ms\tremaining: 674ms\n",
      "396:\tlearn: 0.3252430\ttotal: 443ms\tremaining: 673ms\n",
      "397:\tlearn: 0.3249389\ttotal: 444ms\tremaining: 672ms\n",
      "398:\tlearn: 0.3246790\ttotal: 446ms\tremaining: 671ms\n",
      "399:\tlearn: 0.3244315\ttotal: 447ms\tremaining: 670ms\n",
      "400:\tlearn: 0.3242857\ttotal: 448ms\tremaining: 669ms\n",
      "401:\tlearn: 0.3241632\ttotal: 449ms\tremaining: 668ms\n",
      "402:\tlearn: 0.3239742\ttotal: 450ms\tremaining: 667ms\n",
      "403:\tlearn: 0.3239692\ttotal: 451ms\tremaining: 665ms\n",
      "404:\tlearn: 0.3237591\ttotal: 452ms\tremaining: 664ms\n",
      "405:\tlearn: 0.3235842\ttotal: 453ms\tremaining: 663ms\n",
      "406:\tlearn: 0.3234018\ttotal: 454ms\tremaining: 661ms\n",
      "407:\tlearn: 0.3231726\ttotal: 455ms\tremaining: 660ms\n",
      "408:\tlearn: 0.3231026\ttotal: 456ms\tremaining: 659ms\n",
      "409:\tlearn: 0.3230067\ttotal: 457ms\tremaining: 658ms\n",
      "410:\tlearn: 0.3229403\ttotal: 458ms\tremaining: 657ms\n",
      "411:\tlearn: 0.3228472\ttotal: 459ms\tremaining: 655ms\n",
      "412:\tlearn: 0.3226019\ttotal: 461ms\tremaining: 655ms\n",
      "413:\tlearn: 0.3224864\ttotal: 462ms\tremaining: 654ms\n",
      "414:\tlearn: 0.3221695\ttotal: 463ms\tremaining: 653ms\n",
      "415:\tlearn: 0.3219713\ttotal: 464ms\tremaining: 652ms\n",
      "416:\tlearn: 0.3218541\ttotal: 465ms\tremaining: 650ms\n",
      "417:\tlearn: 0.3217086\ttotal: 466ms\tremaining: 649ms\n",
      "418:\tlearn: 0.3213939\ttotal: 467ms\tremaining: 648ms\n",
      "419:\tlearn: 0.3213588\ttotal: 468ms\tremaining: 646ms\n",
      "420:\tlearn: 0.3212199\ttotal: 469ms\tremaining: 645ms\n",
      "421:\tlearn: 0.3210070\ttotal: 470ms\tremaining: 644ms\n",
      "422:\tlearn: 0.3205934\ttotal: 471ms\tremaining: 643ms\n",
      "423:\tlearn: 0.3203722\ttotal: 472ms\tremaining: 641ms\n",
      "424:\tlearn: 0.3201865\ttotal: 473ms\tremaining: 640ms\n",
      "425:\tlearn: 0.3200406\ttotal: 474ms\tremaining: 639ms\n",
      "426:\tlearn: 0.3198196\ttotal: 476ms\tremaining: 639ms\n",
      "427:\tlearn: 0.3196594\ttotal: 477ms\tremaining: 638ms\n",
      "428:\tlearn: 0.3194899\ttotal: 478ms\tremaining: 637ms\n",
      "429:\tlearn: 0.3194682\ttotal: 479ms\tremaining: 635ms\n",
      "430:\tlearn: 0.3192788\ttotal: 480ms\tremaining: 634ms\n",
      "431:\tlearn: 0.3191580\ttotal: 481ms\tremaining: 633ms\n",
      "432:\tlearn: 0.3191100\ttotal: 482ms\tremaining: 632ms\n",
      "433:\tlearn: 0.3190432\ttotal: 483ms\tremaining: 630ms\n",
      "434:\tlearn: 0.3189126\ttotal: 484ms\tremaining: 629ms\n",
      "435:\tlearn: 0.3187774\ttotal: 486ms\tremaining: 628ms\n",
      "436:\tlearn: 0.3186546\ttotal: 487ms\tremaining: 627ms\n",
      "437:\tlearn: 0.3185441\ttotal: 488ms\tremaining: 626ms\n",
      "438:\tlearn: 0.3183351\ttotal: 489ms\tremaining: 625ms\n",
      "439:\tlearn: 0.3182028\ttotal: 490ms\tremaining: 623ms\n",
      "440:\tlearn: 0.3181620\ttotal: 491ms\tremaining: 622ms\n",
      "441:\tlearn: 0.3180291\ttotal: 492ms\tremaining: 621ms\n",
      "442:\tlearn: 0.3179026\ttotal: 493ms\tremaining: 620ms\n",
      "443:\tlearn: 0.3178243\ttotal: 494ms\tremaining: 619ms\n",
      "444:\tlearn: 0.3177944\ttotal: 495ms\tremaining: 617ms\n",
      "445:\tlearn: 0.3176696\ttotal: 496ms\tremaining: 616ms\n",
      "446:\tlearn: 0.3173787\ttotal: 497ms\tremaining: 615ms\n",
      "447:\tlearn: 0.3173059\ttotal: 498ms\tremaining: 614ms\n",
      "448:\tlearn: 0.3170447\ttotal: 499ms\tremaining: 613ms\n",
      "449:\tlearn: 0.3168809\ttotal: 500ms\tremaining: 611ms\n",
      "450:\tlearn: 0.3167244\ttotal: 501ms\tremaining: 610ms\n",
      "451:\tlearn: 0.3164615\ttotal: 502ms\tremaining: 609ms\n",
      "452:\tlearn: 0.3161648\ttotal: 504ms\tremaining: 608ms\n",
      "453:\tlearn: 0.3160081\ttotal: 505ms\tremaining: 607ms\n",
      "454:\tlearn: 0.3156214\ttotal: 506ms\tremaining: 606ms\n",
      "455:\tlearn: 0.3154865\ttotal: 507ms\tremaining: 605ms\n",
      "456:\tlearn: 0.3153835\ttotal: 508ms\tremaining: 604ms\n",
      "457:\tlearn: 0.3153244\ttotal: 510ms\tremaining: 603ms\n",
      "458:\tlearn: 0.3151732\ttotal: 511ms\tremaining: 602ms\n",
      "459:\tlearn: 0.3150471\ttotal: 512ms\tremaining: 601ms\n",
      "460:\tlearn: 0.3148484\ttotal: 513ms\tremaining: 600ms\n",
      "461:\tlearn: 0.3144189\ttotal: 514ms\tremaining: 599ms\n",
      "462:\tlearn: 0.3142670\ttotal: 516ms\tremaining: 598ms\n",
      "463:\tlearn: 0.3141490\ttotal: 517ms\tremaining: 597ms\n",
      "464:\tlearn: 0.3139979\ttotal: 518ms\tremaining: 596ms\n",
      "465:\tlearn: 0.3139888\ttotal: 519ms\tremaining: 594ms\n",
      "466:\tlearn: 0.3137515\ttotal: 520ms\tremaining: 593ms\n",
      "467:\tlearn: 0.3135338\ttotal: 521ms\tremaining: 592ms\n",
      "468:\tlearn: 0.3133599\ttotal: 522ms\tremaining: 591ms\n",
      "469:\tlearn: 0.3131121\ttotal: 523ms\tremaining: 590ms\n",
      "470:\tlearn: 0.3128340\ttotal: 525ms\tremaining: 589ms\n",
      "471:\tlearn: 0.3126060\ttotal: 526ms\tremaining: 588ms\n",
      "472:\tlearn: 0.3124489\ttotal: 527ms\tremaining: 587ms\n",
      "473:\tlearn: 0.3123384\ttotal: 528ms\tremaining: 586ms\n",
      "474:\tlearn: 0.3122979\ttotal: 529ms\tremaining: 585ms\n",
      "475:\tlearn: 0.3122433\ttotal: 530ms\tremaining: 583ms\n",
      "476:\tlearn: 0.3121533\ttotal: 531ms\tremaining: 582ms\n",
      "477:\tlearn: 0.3119701\ttotal: 532ms\tremaining: 581ms\n",
      "478:\tlearn: 0.3118345\ttotal: 533ms\tremaining: 580ms\n",
      "479:\tlearn: 0.3116987\ttotal: 534ms\tremaining: 579ms\n",
      "480:\tlearn: 0.3115332\ttotal: 535ms\tremaining: 578ms\n",
      "481:\tlearn: 0.3114257\ttotal: 537ms\tremaining: 577ms\n",
      "482:\tlearn: 0.3112820\ttotal: 538ms\tremaining: 576ms\n",
      "483:\tlearn: 0.3111794\ttotal: 539ms\tremaining: 575ms\n",
      "484:\tlearn: 0.3110122\ttotal: 540ms\tremaining: 573ms\n",
      "485:\tlearn: 0.3108778\ttotal: 541ms\tremaining: 572ms\n",
      "486:\tlearn: 0.3107317\ttotal: 542ms\tremaining: 571ms\n",
      "487:\tlearn: 0.3106168\ttotal: 543ms\tremaining: 570ms\n",
      "488:\tlearn: 0.3105380\ttotal: 544ms\tremaining: 569ms\n",
      "489:\tlearn: 0.3103462\ttotal: 546ms\tremaining: 568ms\n",
      "490:\tlearn: 0.3103363\ttotal: 546ms\tremaining: 566ms\n",
      "491:\tlearn: 0.3100093\ttotal: 547ms\tremaining: 565ms\n",
      "492:\tlearn: 0.3099630\ttotal: 548ms\tremaining: 564ms\n",
      "493:\tlearn: 0.3098048\ttotal: 549ms\tremaining: 563ms\n",
      "494:\tlearn: 0.3097471\ttotal: 551ms\tremaining: 562ms\n",
      "495:\tlearn: 0.3096514\ttotal: 552ms\tremaining: 561ms\n",
      "496:\tlearn: 0.3093546\ttotal: 554ms\tremaining: 560ms\n",
      "497:\tlearn: 0.3091278\ttotal: 555ms\tremaining: 559ms\n",
      "498:\tlearn: 0.3089813\ttotal: 556ms\tremaining: 558ms\n",
      "499:\tlearn: 0.3088251\ttotal: 557ms\tremaining: 557ms\n",
      "500:\tlearn: 0.3086442\ttotal: 558ms\tremaining: 556ms\n",
      "501:\tlearn: 0.3085706\ttotal: 559ms\tremaining: 555ms\n",
      "502:\tlearn: 0.3084393\ttotal: 560ms\tremaining: 554ms\n",
      "503:\tlearn: 0.3081018\ttotal: 561ms\tremaining: 552ms\n",
      "504:\tlearn: 0.3080297\ttotal: 562ms\tremaining: 551ms\n",
      "505:\tlearn: 0.3078975\ttotal: 563ms\tremaining: 550ms\n",
      "506:\tlearn: 0.3076889\ttotal: 564ms\tremaining: 549ms\n",
      "507:\tlearn: 0.3074794\ttotal: 565ms\tremaining: 548ms\n",
      "508:\tlearn: 0.3073085\ttotal: 566ms\tremaining: 546ms\n",
      "509:\tlearn: 0.3071881\ttotal: 568ms\tremaining: 546ms\n",
      "510:\tlearn: 0.3069869\ttotal: 569ms\tremaining: 545ms\n",
      "511:\tlearn: 0.3066978\ttotal: 570ms\tremaining: 544ms\n",
      "512:\tlearn: 0.3065679\ttotal: 572ms\tremaining: 543ms\n",
      "513:\tlearn: 0.3063699\ttotal: 573ms\tremaining: 541ms\n",
      "514:\tlearn: 0.3062574\ttotal: 574ms\tremaining: 540ms\n",
      "515:\tlearn: 0.3059275\ttotal: 575ms\tremaining: 539ms\n",
      "516:\tlearn: 0.3056014\ttotal: 576ms\tremaining: 538ms\n",
      "517:\tlearn: 0.3055685\ttotal: 577ms\tremaining: 536ms\n",
      "518:\tlearn: 0.3053784\ttotal: 578ms\tremaining: 535ms\n",
      "519:\tlearn: 0.3052176\ttotal: 579ms\tremaining: 534ms\n",
      "520:\tlearn: 0.3049838\ttotal: 580ms\tremaining: 533ms\n",
      "521:\tlearn: 0.3048382\ttotal: 581ms\tremaining: 532ms\n",
      "522:\tlearn: 0.3047403\ttotal: 582ms\tremaining: 531ms\n",
      "523:\tlearn: 0.3044821\ttotal: 584ms\tremaining: 530ms\n",
      "524:\tlearn: 0.3044093\ttotal: 585ms\tremaining: 529ms\n",
      "525:\tlearn: 0.3042979\ttotal: 586ms\tremaining: 528ms\n",
      "526:\tlearn: 0.3041827\ttotal: 587ms\tremaining: 527ms\n",
      "527:\tlearn: 0.3040967\ttotal: 588ms\tremaining: 525ms\n",
      "528:\tlearn: 0.3039696\ttotal: 589ms\tremaining: 524ms\n",
      "529:\tlearn: 0.3038426\ttotal: 590ms\tremaining: 523ms\n",
      "530:\tlearn: 0.3037319\ttotal: 591ms\tremaining: 522ms\n",
      "531:\tlearn: 0.3036321\ttotal: 592ms\tremaining: 521ms\n",
      "532:\tlearn: 0.3034913\ttotal: 593ms\tremaining: 520ms\n",
      "533:\tlearn: 0.3032287\ttotal: 594ms\tremaining: 519ms\n",
      "534:\tlearn: 0.3031092\ttotal: 595ms\tremaining: 517ms\n",
      "535:\tlearn: 0.3027450\ttotal: 596ms\tremaining: 516ms\n",
      "536:\tlearn: 0.3027364\ttotal: 597ms\tremaining: 515ms\n",
      "537:\tlearn: 0.3025280\ttotal: 599ms\tremaining: 514ms\n",
      "538:\tlearn: 0.3022188\ttotal: 600ms\tremaining: 513ms\n",
      "539:\tlearn: 0.3020955\ttotal: 601ms\tremaining: 512ms\n",
      "540:\tlearn: 0.3019843\ttotal: 602ms\tremaining: 511ms\n",
      "541:\tlearn: 0.3018195\ttotal: 603ms\tremaining: 510ms\n",
      "542:\tlearn: 0.3015106\ttotal: 604ms\tremaining: 509ms\n",
      "543:\tlearn: 0.3012613\ttotal: 606ms\tremaining: 508ms\n",
      "544:\tlearn: 0.3011943\ttotal: 607ms\tremaining: 506ms\n",
      "545:\tlearn: 0.3010949\ttotal: 608ms\tremaining: 505ms\n",
      "546:\tlearn: 0.3008158\ttotal: 609ms\tremaining: 504ms\n",
      "547:\tlearn: 0.3006250\ttotal: 610ms\tremaining: 503ms\n",
      "548:\tlearn: 0.3004511\ttotal: 611ms\tremaining: 502ms\n",
      "549:\tlearn: 0.3003105\ttotal: 612ms\tremaining: 501ms\n",
      "550:\tlearn: 0.3002588\ttotal: 613ms\tremaining: 499ms\n",
      "551:\tlearn: 0.3001625\ttotal: 614ms\tremaining: 498ms\n",
      "552:\tlearn: 0.2999541\ttotal: 615ms\tremaining: 497ms\n",
      "553:\tlearn: 0.2996318\ttotal: 617ms\tremaining: 496ms\n",
      "554:\tlearn: 0.2994565\ttotal: 618ms\tremaining: 495ms\n",
      "555:\tlearn: 0.2992395\ttotal: 619ms\tremaining: 494ms\n",
      "556:\tlearn: 0.2991383\ttotal: 620ms\tremaining: 493ms\n",
      "557:\tlearn: 0.2990472\ttotal: 621ms\tremaining: 492ms\n",
      "558:\tlearn: 0.2989868\ttotal: 622ms\tremaining: 491ms\n",
      "559:\tlearn: 0.2989708\ttotal: 623ms\tremaining: 489ms\n",
      "560:\tlearn: 0.2988363\ttotal: 624ms\tremaining: 488ms\n",
      "561:\tlearn: 0.2986729\ttotal: 625ms\tremaining: 487ms\n",
      "562:\tlearn: 0.2986020\ttotal: 626ms\tremaining: 486ms\n",
      "563:\tlearn: 0.2984864\ttotal: 627ms\tremaining: 485ms\n",
      "564:\tlearn: 0.2983942\ttotal: 628ms\tremaining: 484ms\n",
      "565:\tlearn: 0.2982946\ttotal: 630ms\tremaining: 483ms\n",
      "566:\tlearn: 0.2980884\ttotal: 631ms\tremaining: 482ms\n",
      "567:\tlearn: 0.2978997\ttotal: 632ms\tremaining: 481ms\n",
      "568:\tlearn: 0.2977938\ttotal: 633ms\tremaining: 480ms\n",
      "569:\tlearn: 0.2975893\ttotal: 634ms\tremaining: 479ms\n",
      "570:\tlearn: 0.2974221\ttotal: 636ms\tremaining: 478ms\n",
      "571:\tlearn: 0.2973063\ttotal: 637ms\tremaining: 476ms\n",
      "572:\tlearn: 0.2972395\ttotal: 638ms\tremaining: 475ms\n",
      "573:\tlearn: 0.2970919\ttotal: 639ms\tremaining: 474ms\n",
      "574:\tlearn: 0.2967892\ttotal: 640ms\tremaining: 473ms\n",
      "575:\tlearn: 0.2965395\ttotal: 641ms\tremaining: 472ms\n",
      "576:\tlearn: 0.2965300\ttotal: 642ms\tremaining: 470ms\n",
      "577:\tlearn: 0.2963194\ttotal: 643ms\tremaining: 469ms\n",
      "578:\tlearn: 0.2961187\ttotal: 644ms\tremaining: 468ms\n",
      "579:\tlearn: 0.2959474\ttotal: 645ms\tremaining: 467ms\n",
      "580:\tlearn: 0.2958197\ttotal: 647ms\tremaining: 466ms\n",
      "581:\tlearn: 0.2957355\ttotal: 648ms\tremaining: 465ms\n",
      "582:\tlearn: 0.2954779\ttotal: 649ms\tremaining: 464ms\n",
      "583:\tlearn: 0.2953707\ttotal: 650ms\tremaining: 463ms\n",
      "584:\tlearn: 0.2951717\ttotal: 651ms\tremaining: 462ms\n",
      "585:\tlearn: 0.2948832\ttotal: 653ms\tremaining: 461ms\n",
      "586:\tlearn: 0.2947411\ttotal: 654ms\tremaining: 460ms\n",
      "587:\tlearn: 0.2946093\ttotal: 656ms\tremaining: 459ms\n",
      "588:\tlearn: 0.2945856\ttotal: 657ms\tremaining: 458ms\n",
      "589:\tlearn: 0.2944607\ttotal: 658ms\tremaining: 458ms\n",
      "590:\tlearn: 0.2941728\ttotal: 660ms\tremaining: 457ms\n",
      "591:\tlearn: 0.2940687\ttotal: 662ms\tremaining: 456ms\n",
      "592:\tlearn: 0.2939979\ttotal: 663ms\tremaining: 455ms\n",
      "593:\tlearn: 0.2939589\ttotal: 664ms\tremaining: 454ms\n",
      "594:\tlearn: 0.2938102\ttotal: 665ms\tremaining: 453ms\n",
      "595:\tlearn: 0.2937924\ttotal: 666ms\tremaining: 451ms\n",
      "596:\tlearn: 0.2936513\ttotal: 667ms\tremaining: 450ms\n",
      "597:\tlearn: 0.2936512\ttotal: 667ms\tremaining: 449ms\n",
      "598:\tlearn: 0.2935720\ttotal: 668ms\tremaining: 448ms\n",
      "599:\tlearn: 0.2934289\ttotal: 670ms\tremaining: 446ms\n",
      "600:\tlearn: 0.2931920\ttotal: 671ms\tremaining: 445ms\n",
      "601:\tlearn: 0.2930791\ttotal: 672ms\tremaining: 444ms\n",
      "602:\tlearn: 0.2929949\ttotal: 673ms\tremaining: 443ms\n",
      "603:\tlearn: 0.2929142\ttotal: 674ms\tremaining: 442ms\n",
      "604:\tlearn: 0.2927271\ttotal: 676ms\tremaining: 441ms\n",
      "605:\tlearn: 0.2925983\ttotal: 677ms\tremaining: 440ms\n",
      "606:\tlearn: 0.2925305\ttotal: 678ms\tremaining: 439ms\n",
      "607:\tlearn: 0.2924537\ttotal: 679ms\tremaining: 438ms\n"
     ]
    },
    {
     "name": "stdout",
     "output_type": "stream",
     "text": [
      "608:\tlearn: 0.2922591\ttotal: 680ms\tremaining: 437ms\n",
      "609:\tlearn: 0.2921875\ttotal: 682ms\tremaining: 436ms\n",
      "610:\tlearn: 0.2918942\ttotal: 683ms\tremaining: 435ms\n",
      "611:\tlearn: 0.2918103\ttotal: 684ms\tremaining: 434ms\n",
      "612:\tlearn: 0.2916894\ttotal: 685ms\tremaining: 432ms\n",
      "613:\tlearn: 0.2916858\ttotal: 686ms\tremaining: 431ms\n",
      "614:\tlearn: 0.2916230\ttotal: 687ms\tremaining: 430ms\n",
      "615:\tlearn: 0.2914311\ttotal: 688ms\tremaining: 429ms\n",
      "616:\tlearn: 0.2912001\ttotal: 689ms\tremaining: 428ms\n",
      "617:\tlearn: 0.2911569\ttotal: 690ms\tremaining: 426ms\n",
      "618:\tlearn: 0.2909415\ttotal: 691ms\tremaining: 425ms\n",
      "619:\tlearn: 0.2909017\ttotal: 692ms\tremaining: 424ms\n",
      "620:\tlearn: 0.2907037\ttotal: 693ms\tremaining: 423ms\n",
      "621:\tlearn: 0.2905061\ttotal: 694ms\tremaining: 422ms\n",
      "622:\tlearn: 0.2903617\ttotal: 695ms\tremaining: 421ms\n",
      "623:\tlearn: 0.2902550\ttotal: 697ms\tremaining: 420ms\n",
      "624:\tlearn: 0.2901405\ttotal: 698ms\tremaining: 419ms\n",
      "625:\tlearn: 0.2898738\ttotal: 699ms\tremaining: 418ms\n",
      "626:\tlearn: 0.2897904\ttotal: 700ms\tremaining: 417ms\n",
      "627:\tlearn: 0.2897789\ttotal: 701ms\tremaining: 415ms\n",
      "628:\tlearn: 0.2896076\ttotal: 702ms\tremaining: 414ms\n",
      "629:\tlearn: 0.2895302\ttotal: 703ms\tremaining: 413ms\n",
      "630:\tlearn: 0.2893982\ttotal: 704ms\tremaining: 412ms\n",
      "631:\tlearn: 0.2893199\ttotal: 706ms\tremaining: 411ms\n",
      "632:\tlearn: 0.2892379\ttotal: 707ms\tremaining: 410ms\n",
      "633:\tlearn: 0.2891519\ttotal: 708ms\tremaining: 409ms\n",
      "634:\tlearn: 0.2890544\ttotal: 709ms\tremaining: 408ms\n",
      "635:\tlearn: 0.2889830\ttotal: 710ms\tremaining: 407ms\n",
      "636:\tlearn: 0.2889273\ttotal: 711ms\tremaining: 405ms\n",
      "637:\tlearn: 0.2886683\ttotal: 713ms\tremaining: 404ms\n",
      "638:\tlearn: 0.2883983\ttotal: 714ms\tremaining: 403ms\n",
      "639:\tlearn: 0.2882774\ttotal: 715ms\tremaining: 402ms\n",
      "640:\tlearn: 0.2882082\ttotal: 716ms\tremaining: 401ms\n",
      "641:\tlearn: 0.2881640\ttotal: 717ms\tremaining: 400ms\n",
      "642:\tlearn: 0.2880137\ttotal: 718ms\tremaining: 399ms\n",
      "643:\tlearn: 0.2879952\ttotal: 719ms\tremaining: 397ms\n",
      "644:\tlearn: 0.2878915\ttotal: 720ms\tremaining: 396ms\n",
      "645:\tlearn: 0.2875364\ttotal: 722ms\tremaining: 395ms\n",
      "646:\tlearn: 0.2873374\ttotal: 723ms\tremaining: 394ms\n",
      "647:\tlearn: 0.2871835\ttotal: 724ms\tremaining: 393ms\n",
      "648:\tlearn: 0.2870755\ttotal: 725ms\tremaining: 392ms\n",
      "649:\tlearn: 0.2868252\ttotal: 726ms\tremaining: 391ms\n",
      "650:\tlearn: 0.2867024\ttotal: 727ms\tremaining: 390ms\n",
      "651:\tlearn: 0.2866561\ttotal: 728ms\tremaining: 389ms\n",
      "652:\tlearn: 0.2866198\ttotal: 729ms\tremaining: 387ms\n",
      "653:\tlearn: 0.2865909\ttotal: 730ms\tremaining: 386ms\n",
      "654:\tlearn: 0.2864042\ttotal: 731ms\tremaining: 385ms\n",
      "655:\tlearn: 0.2862254\ttotal: 732ms\tremaining: 384ms\n",
      "656:\tlearn: 0.2861301\ttotal: 733ms\tremaining: 383ms\n",
      "657:\tlearn: 0.2860548\ttotal: 734ms\tremaining: 382ms\n",
      "658:\tlearn: 0.2859727\ttotal: 735ms\tremaining: 381ms\n",
      "659:\tlearn: 0.2858673\ttotal: 737ms\tremaining: 380ms\n",
      "660:\tlearn: 0.2857496\ttotal: 738ms\tremaining: 379ms\n",
      "661:\tlearn: 0.2857208\ttotal: 739ms\tremaining: 377ms\n",
      "662:\tlearn: 0.2854869\ttotal: 740ms\tremaining: 376ms\n",
      "663:\tlearn: 0.2854343\ttotal: 741ms\tremaining: 375ms\n",
      "664:\tlearn: 0.2852074\ttotal: 742ms\tremaining: 374ms\n",
      "665:\tlearn: 0.2850519\ttotal: 743ms\tremaining: 373ms\n",
      "666:\tlearn: 0.2848573\ttotal: 744ms\tremaining: 372ms\n",
      "667:\tlearn: 0.2848357\ttotal: 745ms\tremaining: 370ms\n",
      "668:\tlearn: 0.2846713\ttotal: 746ms\tremaining: 369ms\n",
      "669:\tlearn: 0.2845176\ttotal: 747ms\tremaining: 368ms\n",
      "670:\tlearn: 0.2843119\ttotal: 749ms\tremaining: 367ms\n",
      "671:\tlearn: 0.2841615\ttotal: 750ms\tremaining: 366ms\n",
      "672:\tlearn: 0.2840254\ttotal: 751ms\tremaining: 365ms\n",
      "673:\tlearn: 0.2837156\ttotal: 752ms\tremaining: 364ms\n",
      "674:\tlearn: 0.2835126\ttotal: 753ms\tremaining: 363ms\n",
      "675:\tlearn: 0.2833267\ttotal: 754ms\tremaining: 362ms\n",
      "676:\tlearn: 0.2832534\ttotal: 756ms\tremaining: 360ms\n",
      "677:\tlearn: 0.2831552\ttotal: 757ms\tremaining: 359ms\n",
      "678:\tlearn: 0.2830610\ttotal: 758ms\tremaining: 358ms\n",
      "679:\tlearn: 0.2828872\ttotal: 759ms\tremaining: 357ms\n",
      "680:\tlearn: 0.2827289\ttotal: 760ms\tremaining: 356ms\n",
      "681:\tlearn: 0.2824573\ttotal: 761ms\tremaining: 355ms\n",
      "682:\tlearn: 0.2823159\ttotal: 762ms\tremaining: 354ms\n",
      "683:\tlearn: 0.2821196\ttotal: 763ms\tremaining: 353ms\n",
      "684:\tlearn: 0.2821071\ttotal: 764ms\tremaining: 351ms\n",
      "685:\tlearn: 0.2820683\ttotal: 765ms\tremaining: 350ms\n",
      "686:\tlearn: 0.2819402\ttotal: 766ms\tremaining: 349ms\n",
      "687:\tlearn: 0.2818923\ttotal: 768ms\tremaining: 348ms\n",
      "688:\tlearn: 0.2816497\ttotal: 769ms\tremaining: 347ms\n",
      "689:\tlearn: 0.2815094\ttotal: 770ms\tremaining: 346ms\n",
      "690:\tlearn: 0.2814207\ttotal: 771ms\tremaining: 345ms\n",
      "691:\tlearn: 0.2813297\ttotal: 772ms\tremaining: 344ms\n",
      "692:\tlearn: 0.2812678\ttotal: 773ms\tremaining: 343ms\n",
      "693:\tlearn: 0.2811833\ttotal: 775ms\tremaining: 342ms\n",
      "694:\tlearn: 0.2809874\ttotal: 776ms\tremaining: 340ms\n",
      "695:\tlearn: 0.2808904\ttotal: 777ms\tremaining: 339ms\n",
      "696:\tlearn: 0.2806938\ttotal: 778ms\tremaining: 338ms\n",
      "697:\tlearn: 0.2806768\ttotal: 779ms\tremaining: 337ms\n",
      "698:\tlearn: 0.2805773\ttotal: 780ms\tremaining: 336ms\n",
      "699:\tlearn: 0.2804727\ttotal: 781ms\tremaining: 335ms\n",
      "700:\tlearn: 0.2804390\ttotal: 782ms\tremaining: 333ms\n",
      "701:\tlearn: 0.2801620\ttotal: 784ms\tremaining: 333ms\n",
      "702:\tlearn: 0.2800165\ttotal: 785ms\tremaining: 332ms\n",
      "703:\tlearn: 0.2799541\ttotal: 786ms\tremaining: 330ms\n",
      "704:\tlearn: 0.2797064\ttotal: 787ms\tremaining: 329ms\n",
      "705:\tlearn: 0.2795162\ttotal: 788ms\tremaining: 328ms\n",
      "706:\tlearn: 0.2794298\ttotal: 789ms\tremaining: 327ms\n",
      "707:\tlearn: 0.2792589\ttotal: 790ms\tremaining: 326ms\n",
      "708:\tlearn: 0.2791446\ttotal: 791ms\tremaining: 325ms\n",
      "709:\tlearn: 0.2790415\ttotal: 792ms\tremaining: 324ms\n",
      "710:\tlearn: 0.2789467\ttotal: 794ms\tremaining: 323ms\n",
      "711:\tlearn: 0.2788729\ttotal: 795ms\tremaining: 321ms\n",
      "712:\tlearn: 0.2786845\ttotal: 796ms\tremaining: 320ms\n",
      "713:\tlearn: 0.2785756\ttotal: 797ms\tremaining: 319ms\n",
      "714:\tlearn: 0.2784545\ttotal: 798ms\tremaining: 318ms\n",
      "715:\tlearn: 0.2783183\ttotal: 800ms\tremaining: 317ms\n",
      "716:\tlearn: 0.2782268\ttotal: 801ms\tremaining: 316ms\n",
      "717:\tlearn: 0.2779131\ttotal: 802ms\tremaining: 315ms\n",
      "718:\tlearn: 0.2778329\ttotal: 803ms\tremaining: 314ms\n",
      "719:\tlearn: 0.2777374\ttotal: 804ms\tremaining: 313ms\n",
      "720:\tlearn: 0.2775371\ttotal: 805ms\tremaining: 312ms\n",
      "721:\tlearn: 0.2774656\ttotal: 806ms\tremaining: 310ms\n",
      "722:\tlearn: 0.2773655\ttotal: 807ms\tremaining: 309ms\n",
      "723:\tlearn: 0.2772223\ttotal: 809ms\tremaining: 308ms\n",
      "724:\tlearn: 0.2770610\ttotal: 810ms\tremaining: 307ms\n",
      "725:\tlearn: 0.2768912\ttotal: 811ms\tremaining: 306ms\n",
      "726:\tlearn: 0.2767316\ttotal: 812ms\tremaining: 305ms\n",
      "727:\tlearn: 0.2765817\ttotal: 813ms\tremaining: 304ms\n",
      "728:\tlearn: 0.2765276\ttotal: 814ms\tremaining: 303ms\n",
      "729:\tlearn: 0.2764052\ttotal: 816ms\tremaining: 302ms\n",
      "730:\tlearn: 0.2762904\ttotal: 817ms\tremaining: 301ms\n",
      "731:\tlearn: 0.2760414\ttotal: 818ms\tremaining: 299ms\n",
      "732:\tlearn: 0.2760224\ttotal: 818ms\tremaining: 298ms\n",
      "733:\tlearn: 0.2757287\ttotal: 820ms\tremaining: 297ms\n",
      "734:\tlearn: 0.2756204\ttotal: 821ms\tremaining: 296ms\n",
      "735:\tlearn: 0.2755137\ttotal: 822ms\tremaining: 295ms\n",
      "736:\tlearn: 0.2754925\ttotal: 822ms\tremaining: 294ms\n",
      "737:\tlearn: 0.2754740\ttotal: 823ms\tremaining: 292ms\n",
      "738:\tlearn: 0.2753201\ttotal: 824ms\tremaining: 291ms\n",
      "739:\tlearn: 0.2750884\ttotal: 825ms\tremaining: 290ms\n",
      "740:\tlearn: 0.2749966\ttotal: 827ms\tremaining: 289ms\n",
      "741:\tlearn: 0.2749501\ttotal: 828ms\tremaining: 288ms\n",
      "742:\tlearn: 0.2746711\ttotal: 829ms\tremaining: 287ms\n",
      "743:\tlearn: 0.2745657\ttotal: 830ms\tremaining: 286ms\n",
      "744:\tlearn: 0.2745075\ttotal: 832ms\tremaining: 285ms\n",
      "745:\tlearn: 0.2744218\ttotal: 833ms\tremaining: 284ms\n",
      "746:\tlearn: 0.2742548\ttotal: 834ms\tremaining: 282ms\n",
      "747:\tlearn: 0.2739986\ttotal: 835ms\tremaining: 281ms\n",
      "748:\tlearn: 0.2738795\ttotal: 836ms\tremaining: 280ms\n",
      "749:\tlearn: 0.2737013\ttotal: 837ms\tremaining: 279ms\n",
      "750:\tlearn: 0.2736083\ttotal: 838ms\tremaining: 278ms\n",
      "751:\tlearn: 0.2734756\ttotal: 839ms\tremaining: 277ms\n",
      "752:\tlearn: 0.2734103\ttotal: 840ms\tremaining: 276ms\n",
      "753:\tlearn: 0.2732971\ttotal: 841ms\tremaining: 275ms\n",
      "754:\tlearn: 0.2731601\ttotal: 843ms\tremaining: 273ms\n",
      "755:\tlearn: 0.2729627\ttotal: 844ms\tremaining: 272ms\n",
      "756:\tlearn: 0.2726729\ttotal: 845ms\tremaining: 271ms\n",
      "757:\tlearn: 0.2726095\ttotal: 846ms\tremaining: 270ms\n",
      "758:\tlearn: 0.2725460\ttotal: 848ms\tremaining: 269ms\n",
      "759:\tlearn: 0.2724448\ttotal: 849ms\tremaining: 268ms\n",
      "760:\tlearn: 0.2722822\ttotal: 850ms\tremaining: 267ms\n",
      "761:\tlearn: 0.2721883\ttotal: 851ms\tremaining: 266ms\n",
      "762:\tlearn: 0.2721060\ttotal: 852ms\tremaining: 265ms\n",
      "763:\tlearn: 0.2720957\ttotal: 853ms\tremaining: 263ms\n",
      "764:\tlearn: 0.2719293\ttotal: 854ms\tremaining: 262ms\n",
      "765:\tlearn: 0.2718180\ttotal: 856ms\tremaining: 261ms\n",
      "766:\tlearn: 0.2716071\ttotal: 857ms\tremaining: 260ms\n",
      "767:\tlearn: 0.2715319\ttotal: 858ms\tremaining: 259ms\n",
      "768:\tlearn: 0.2713987\ttotal: 859ms\tremaining: 258ms\n",
      "769:\tlearn: 0.2713021\ttotal: 860ms\tremaining: 257ms\n",
      "770:\tlearn: 0.2712452\ttotal: 862ms\tremaining: 256ms\n",
      "771:\tlearn: 0.2711439\ttotal: 863ms\tremaining: 255ms\n",
      "772:\tlearn: 0.2710201\ttotal: 864ms\tremaining: 254ms\n",
      "773:\tlearn: 0.2708605\ttotal: 865ms\tremaining: 253ms\n",
      "774:\tlearn: 0.2707855\ttotal: 867ms\tremaining: 252ms\n",
      "775:\tlearn: 0.2706303\ttotal: 868ms\tremaining: 250ms\n",
      "776:\tlearn: 0.2705435\ttotal: 869ms\tremaining: 249ms\n",
      "777:\tlearn: 0.2704223\ttotal: 870ms\tremaining: 248ms\n",
      "778:\tlearn: 0.2703839\ttotal: 871ms\tremaining: 247ms\n",
      "779:\tlearn: 0.2701676\ttotal: 872ms\tremaining: 246ms\n",
      "780:\tlearn: 0.2700533\ttotal: 873ms\tremaining: 245ms\n",
      "781:\tlearn: 0.2699271\ttotal: 874ms\tremaining: 244ms\n",
      "782:\tlearn: 0.2699094\ttotal: 875ms\tremaining: 243ms\n",
      "783:\tlearn: 0.2698032\ttotal: 876ms\tremaining: 241ms\n",
      "784:\tlearn: 0.2697219\ttotal: 878ms\tremaining: 240ms\n",
      "785:\tlearn: 0.2694905\ttotal: 879ms\tremaining: 239ms\n",
      "786:\tlearn: 0.2693195\ttotal: 880ms\tremaining: 238ms\n",
      "787:\tlearn: 0.2691895\ttotal: 881ms\tremaining: 237ms\n",
      "788:\tlearn: 0.2691333\ttotal: 883ms\tremaining: 236ms\n",
      "789:\tlearn: 0.2690193\ttotal: 884ms\tremaining: 235ms\n",
      "790:\tlearn: 0.2689802\ttotal: 886ms\tremaining: 234ms\n",
      "791:\tlearn: 0.2688255\ttotal: 887ms\tremaining: 233ms\n",
      "792:\tlearn: 0.2687699\ttotal: 889ms\tremaining: 232ms\n",
      "793:\tlearn: 0.2687326\ttotal: 891ms\tremaining: 231ms\n",
      "794:\tlearn: 0.2686149\ttotal: 893ms\tremaining: 230ms\n",
      "795:\tlearn: 0.2684172\ttotal: 894ms\tremaining: 229ms\n",
      "796:\tlearn: 0.2683063\ttotal: 895ms\tremaining: 228ms\n",
      "797:\tlearn: 0.2682035\ttotal: 896ms\tremaining: 227ms\n",
      "798:\tlearn: 0.2681668\ttotal: 897ms\tremaining: 226ms\n",
      "799:\tlearn: 0.2680079\ttotal: 898ms\tremaining: 225ms\n",
      "800:\tlearn: 0.2678417\ttotal: 899ms\tremaining: 223ms\n",
      "801:\tlearn: 0.2677284\ttotal: 901ms\tremaining: 222ms\n",
      "802:\tlearn: 0.2676418\ttotal: 902ms\tremaining: 221ms\n",
      "803:\tlearn: 0.2675999\ttotal: 903ms\tremaining: 220ms\n",
      "804:\tlearn: 0.2675384\ttotal: 904ms\tremaining: 219ms\n",
      "805:\tlearn: 0.2674796\ttotal: 905ms\tremaining: 218ms\n",
      "806:\tlearn: 0.2673503\ttotal: 907ms\tremaining: 217ms\n",
      "807:\tlearn: 0.2672373\ttotal: 908ms\tremaining: 216ms\n",
      "808:\tlearn: 0.2672021\ttotal: 909ms\tremaining: 215ms\n",
      "809:\tlearn: 0.2671174\ttotal: 910ms\tremaining: 213ms\n",
      "810:\tlearn: 0.2668367\ttotal: 911ms\tremaining: 212ms\n",
      "811:\tlearn: 0.2667100\ttotal: 912ms\tremaining: 211ms\n",
      "812:\tlearn: 0.2664951\ttotal: 913ms\tremaining: 210ms\n",
      "813:\tlearn: 0.2664092\ttotal: 914ms\tremaining: 209ms\n",
      "814:\tlearn: 0.2663518\ttotal: 915ms\tremaining: 208ms\n",
      "815:\tlearn: 0.2661743\ttotal: 916ms\tremaining: 207ms\n",
      "816:\tlearn: 0.2659847\ttotal: 917ms\tremaining: 205ms\n",
      "817:\tlearn: 0.2659082\ttotal: 918ms\tremaining: 204ms\n",
      "818:\tlearn: 0.2657857\ttotal: 920ms\tremaining: 203ms\n",
      "819:\tlearn: 0.2656230\ttotal: 921ms\tremaining: 202ms\n",
      "820:\tlearn: 0.2654649\ttotal: 922ms\tremaining: 201ms\n",
      "821:\tlearn: 0.2652987\ttotal: 926ms\tremaining: 200ms\n",
      "822:\tlearn: 0.2651531\ttotal: 928ms\tremaining: 200ms\n",
      "823:\tlearn: 0.2650174\ttotal: 929ms\tremaining: 199ms\n",
      "824:\tlearn: 0.2649313\ttotal: 931ms\tremaining: 197ms\n",
      "825:\tlearn: 0.2648710\ttotal: 932ms\tremaining: 196ms\n",
      "826:\tlearn: 0.2647183\ttotal: 933ms\tremaining: 195ms\n",
      "827:\tlearn: 0.2646089\ttotal: 935ms\tremaining: 194ms\n",
      "828:\tlearn: 0.2645050\ttotal: 936ms\tremaining: 193ms\n",
      "829:\tlearn: 0.2643111\ttotal: 938ms\tremaining: 192ms\n",
      "830:\tlearn: 0.2641969\ttotal: 939ms\tremaining: 191ms\n",
      "831:\tlearn: 0.2640872\ttotal: 940ms\tremaining: 190ms\n",
      "832:\tlearn: 0.2639267\ttotal: 941ms\tremaining: 189ms\n",
      "833:\tlearn: 0.2637962\ttotal: 942ms\tremaining: 187ms\n",
      "834:\tlearn: 0.2637492\ttotal: 943ms\tremaining: 186ms\n",
      "835:\tlearn: 0.2635847\ttotal: 944ms\tremaining: 185ms\n",
      "836:\tlearn: 0.2633584\ttotal: 945ms\tremaining: 184ms\n",
      "837:\tlearn: 0.2631826\ttotal: 946ms\tremaining: 183ms\n",
      "838:\tlearn: 0.2630600\ttotal: 947ms\tremaining: 182ms\n",
      "839:\tlearn: 0.2629706\ttotal: 949ms\tremaining: 181ms\n",
      "840:\tlearn: 0.2627777\ttotal: 950ms\tremaining: 180ms\n",
      "841:\tlearn: 0.2625432\ttotal: 952ms\tremaining: 179ms\n",
      "842:\tlearn: 0.2624151\ttotal: 953ms\tremaining: 177ms\n",
      "843:\tlearn: 0.2623599\ttotal: 954ms\tremaining: 176ms\n",
      "844:\tlearn: 0.2623104\ttotal: 955ms\tremaining: 175ms\n",
      "845:\tlearn: 0.2621554\ttotal: 956ms\tremaining: 174ms\n",
      "846:\tlearn: 0.2620256\ttotal: 957ms\tremaining: 173ms\n",
      "847:\tlearn: 0.2619513\ttotal: 958ms\tremaining: 172ms\n",
      "848:\tlearn: 0.2618887\ttotal: 959ms\tremaining: 171ms\n",
      "849:\tlearn: 0.2617845\ttotal: 960ms\tremaining: 169ms\n",
      "850:\tlearn: 0.2616869\ttotal: 961ms\tremaining: 168ms\n",
      "851:\tlearn: 0.2615903\ttotal: 963ms\tremaining: 167ms\n",
      "852:\tlearn: 0.2614616\ttotal: 964ms\tremaining: 166ms\n",
      "853:\tlearn: 0.2613094\ttotal: 966ms\tremaining: 165ms\n",
      "854:\tlearn: 0.2611543\ttotal: 967ms\tremaining: 164ms\n",
      "855:\tlearn: 0.2609634\ttotal: 968ms\tremaining: 163ms\n",
      "856:\tlearn: 0.2609009\ttotal: 969ms\tremaining: 162ms\n",
      "857:\tlearn: 0.2607883\ttotal: 970ms\tremaining: 161ms\n",
      "858:\tlearn: 0.2606914\ttotal: 971ms\tremaining: 159ms\n",
      "859:\tlearn: 0.2606324\ttotal: 972ms\tremaining: 158ms\n",
      "860:\tlearn: 0.2603991\ttotal: 974ms\tremaining: 157ms\n",
      "861:\tlearn: 0.2602457\ttotal: 975ms\tremaining: 156ms\n",
      "862:\tlearn: 0.2601386\ttotal: 976ms\tremaining: 155ms\n",
      "863:\tlearn: 0.2599260\ttotal: 977ms\tremaining: 154ms\n",
      "864:\tlearn: 0.2597581\ttotal: 978ms\tremaining: 153ms\n",
      "865:\tlearn: 0.2596437\ttotal: 980ms\tremaining: 152ms\n",
      "866:\tlearn: 0.2595487\ttotal: 981ms\tremaining: 150ms\n",
      "867:\tlearn: 0.2593897\ttotal: 982ms\tremaining: 149ms\n",
      "868:\tlearn: 0.2591299\ttotal: 983ms\tremaining: 148ms\n",
      "869:\tlearn: 0.2590300\ttotal: 984ms\tremaining: 147ms\n",
      "870:\tlearn: 0.2587451\ttotal: 986ms\tremaining: 146ms\n",
      "871:\tlearn: 0.2586420\ttotal: 987ms\tremaining: 145ms\n",
      "872:\tlearn: 0.2585121\ttotal: 988ms\tremaining: 144ms\n",
      "873:\tlearn: 0.2583761\ttotal: 989ms\tremaining: 143ms\n",
      "874:\tlearn: 0.2582075\ttotal: 990ms\tremaining: 141ms\n",
      "875:\tlearn: 0.2581062\ttotal: 991ms\tremaining: 140ms\n",
      "876:\tlearn: 0.2580644\ttotal: 992ms\tremaining: 139ms\n",
      "877:\tlearn: 0.2578519\ttotal: 993ms\tremaining: 138ms\n",
      "878:\tlearn: 0.2577664\ttotal: 995ms\tremaining: 137ms\n",
      "879:\tlearn: 0.2576259\ttotal: 996ms\tremaining: 136ms\n",
      "880:\tlearn: 0.2573226\ttotal: 997ms\tremaining: 135ms\n",
      "881:\tlearn: 0.2572265\ttotal: 998ms\tremaining: 134ms\n",
      "882:\tlearn: 0.2571114\ttotal: 999ms\tremaining: 132ms\n",
      "883:\tlearn: 0.2570878\ttotal: 1s\tremaining: 131ms\n",
      "884:\tlearn: 0.2570211\ttotal: 1s\tremaining: 130ms\n",
      "885:\tlearn: 0.2569335\ttotal: 1s\tremaining: 129ms\n",
      "886:\tlearn: 0.2568255\ttotal: 1s\tremaining: 128ms\n",
      "887:\tlearn: 0.2567557\ttotal: 1s\tremaining: 127ms\n",
      "888:\tlearn: 0.2566062\ttotal: 1s\tremaining: 126ms\n",
      "889:\tlearn: 0.2565152\ttotal: 1.01s\tremaining: 124ms\n",
      "890:\tlearn: 0.2563785\ttotal: 1.01s\tremaining: 123ms\n",
      "891:\tlearn: 0.2561828\ttotal: 1.01s\tremaining: 122ms\n",
      "892:\tlearn: 0.2561319\ttotal: 1.01s\tremaining: 121ms\n",
      "893:\tlearn: 0.2559751\ttotal: 1.01s\tremaining: 120ms\n",
      "894:\tlearn: 0.2558405\ttotal: 1.01s\tremaining: 119ms\n",
      "895:\tlearn: 0.2557640\ttotal: 1.01s\tremaining: 118ms\n",
      "896:\tlearn: 0.2556862\ttotal: 1.01s\tremaining: 117ms\n",
      "897:\tlearn: 0.2556206\ttotal: 1.01s\tremaining: 115ms\n",
      "898:\tlearn: 0.2555324\ttotal: 1.02s\tremaining: 114ms\n",
      "899:\tlearn: 0.2554094\ttotal: 1.02s\tremaining: 113ms\n",
      "900:\tlearn: 0.2553474\ttotal: 1.02s\tremaining: 112ms\n",
      "901:\tlearn: 0.2552322\ttotal: 1.02s\tremaining: 111ms\n",
      "902:\tlearn: 0.2551668\ttotal: 1.02s\tremaining: 110ms\n"
     ]
    },
    {
     "name": "stdout",
     "output_type": "stream",
     "text": [
      "903:\tlearn: 0.2550587\ttotal: 1.02s\tremaining: 109ms\n",
      "904:\tlearn: 0.2549920\ttotal: 1.02s\tremaining: 108ms\n",
      "905:\tlearn: 0.2548620\ttotal: 1.02s\tremaining: 106ms\n",
      "906:\tlearn: 0.2546729\ttotal: 1.03s\tremaining: 105ms\n",
      "907:\tlearn: 0.2545382\ttotal: 1.03s\tremaining: 104ms\n",
      "908:\tlearn: 0.2544118\ttotal: 1.03s\tremaining: 103ms\n",
      "909:\tlearn: 0.2542590\ttotal: 1.03s\tremaining: 102ms\n",
      "910:\tlearn: 0.2541619\ttotal: 1.03s\tremaining: 101ms\n",
      "911:\tlearn: 0.2540515\ttotal: 1.03s\tremaining: 99.6ms\n",
      "912:\tlearn: 0.2540053\ttotal: 1.03s\tremaining: 98.5ms\n",
      "913:\tlearn: 0.2538898\ttotal: 1.03s\tremaining: 97.4ms\n",
      "914:\tlearn: 0.2537552\ttotal: 1.04s\tremaining: 96.3ms\n",
      "915:\tlearn: 0.2536585\ttotal: 1.04s\tremaining: 95.1ms\n",
      "916:\tlearn: 0.2533526\ttotal: 1.04s\tremaining: 94ms\n",
      "917:\tlearn: 0.2532994\ttotal: 1.04s\tremaining: 92.9ms\n",
      "918:\tlearn: 0.2531722\ttotal: 1.04s\tremaining: 91.8ms\n",
      "919:\tlearn: 0.2530968\ttotal: 1.04s\tremaining: 90.7ms\n",
      "920:\tlearn: 0.2529065\ttotal: 1.04s\tremaining: 89.5ms\n",
      "921:\tlearn: 0.2528556\ttotal: 1.04s\tremaining: 88.4ms\n",
      "922:\tlearn: 0.2527994\ttotal: 1.04s\tremaining: 87.3ms\n",
      "923:\tlearn: 0.2526672\ttotal: 1.05s\tremaining: 86.1ms\n",
      "924:\tlearn: 0.2525448\ttotal: 1.05s\tremaining: 85ms\n",
      "925:\tlearn: 0.2524717\ttotal: 1.05s\tremaining: 83.8ms\n",
      "926:\tlearn: 0.2523539\ttotal: 1.05s\tremaining: 82.7ms\n",
      "927:\tlearn: 0.2522539\ttotal: 1.05s\tremaining: 81.6ms\n",
      "928:\tlearn: 0.2520604\ttotal: 1.05s\tremaining: 80.4ms\n",
      "929:\tlearn: 0.2520448\ttotal: 1.05s\tremaining: 79.3ms\n",
      "930:\tlearn: 0.2518909\ttotal: 1.05s\tremaining: 78.1ms\n",
      "931:\tlearn: 0.2517860\ttotal: 1.05s\tremaining: 77ms\n",
      "932:\tlearn: 0.2517211\ttotal: 1.06s\tremaining: 75.9ms\n",
      "933:\tlearn: 0.2515059\ttotal: 1.06s\tremaining: 74.8ms\n",
      "934:\tlearn: 0.2513447\ttotal: 1.06s\tremaining: 73.6ms\n",
      "935:\tlearn: 0.2510934\ttotal: 1.06s\tremaining: 72.5ms\n",
      "936:\tlearn: 0.2509863\ttotal: 1.06s\tremaining: 71.4ms\n",
      "937:\tlearn: 0.2506273\ttotal: 1.06s\tremaining: 70.2ms\n",
      "938:\tlearn: 0.2504517\ttotal: 1.06s\tremaining: 69.1ms\n",
      "939:\tlearn: 0.2501799\ttotal: 1.06s\tremaining: 68ms\n",
      "940:\tlearn: 0.2500595\ttotal: 1.06s\tremaining: 66.8ms\n",
      "941:\tlearn: 0.2499014\ttotal: 1.07s\tremaining: 65.7ms\n",
      "942:\tlearn: 0.2498340\ttotal: 1.07s\tremaining: 64.6ms\n",
      "943:\tlearn: 0.2496759\ttotal: 1.07s\tremaining: 63.4ms\n",
      "944:\tlearn: 0.2495926\ttotal: 1.07s\tremaining: 62.3ms\n",
      "945:\tlearn: 0.2494918\ttotal: 1.07s\tremaining: 61.2ms\n",
      "946:\tlearn: 0.2493778\ttotal: 1.07s\tremaining: 60ms\n",
      "947:\tlearn: 0.2492126\ttotal: 1.07s\tremaining: 58.9ms\n",
      "948:\tlearn: 0.2491230\ttotal: 1.07s\tremaining: 57.8ms\n",
      "949:\tlearn: 0.2490531\ttotal: 1.08s\tremaining: 56.6ms\n",
      "950:\tlearn: 0.2489089\ttotal: 1.08s\tremaining: 55.5ms\n",
      "951:\tlearn: 0.2488084\ttotal: 1.08s\tremaining: 54.4ms\n",
      "952:\tlearn: 0.2485374\ttotal: 1.08s\tremaining: 53.2ms\n",
      "953:\tlearn: 0.2484181\ttotal: 1.08s\tremaining: 52.1ms\n",
      "954:\tlearn: 0.2483193\ttotal: 1.08s\tremaining: 51ms\n",
      "955:\tlearn: 0.2482106\ttotal: 1.08s\tremaining: 49.8ms\n",
      "956:\tlearn: 0.2479883\ttotal: 1.08s\tremaining: 48.7ms\n",
      "957:\tlearn: 0.2478579\ttotal: 1.08s\tremaining: 47.6ms\n",
      "958:\tlearn: 0.2476096\ttotal: 1.09s\tremaining: 46.4ms\n",
      "959:\tlearn: 0.2474733\ttotal: 1.09s\tremaining: 45.3ms\n",
      "960:\tlearn: 0.2473480\ttotal: 1.09s\tremaining: 44.2ms\n",
      "961:\tlearn: 0.2471916\ttotal: 1.09s\tremaining: 43.1ms\n",
      "962:\tlearn: 0.2470539\ttotal: 1.09s\tremaining: 41.9ms\n",
      "963:\tlearn: 0.2470135\ttotal: 1.09s\tremaining: 40.8ms\n",
      "964:\tlearn: 0.2467614\ttotal: 1.09s\tremaining: 39.6ms\n",
      "965:\tlearn: 0.2466193\ttotal: 1.09s\tremaining: 38.5ms\n",
      "966:\tlearn: 0.2464357\ttotal: 1.09s\tremaining: 37.4ms\n",
      "967:\tlearn: 0.2461737\ttotal: 1.1s\tremaining: 36.3ms\n",
      "968:\tlearn: 0.2460400\ttotal: 1.1s\tremaining: 35.1ms\n",
      "969:\tlearn: 0.2457463\ttotal: 1.1s\tremaining: 34ms\n",
      "970:\tlearn: 0.2455600\ttotal: 1.1s\tremaining: 32.8ms\n",
      "971:\tlearn: 0.2455319\ttotal: 1.1s\tremaining: 31.7ms\n",
      "972:\tlearn: 0.2454714\ttotal: 1.1s\tremaining: 30.6ms\n",
      "973:\tlearn: 0.2453922\ttotal: 1.1s\tremaining: 29.5ms\n",
      "974:\tlearn: 0.2453180\ttotal: 1.1s\tremaining: 28.3ms\n",
      "975:\tlearn: 0.2450877\ttotal: 1.1s\tremaining: 27.2ms\n",
      "976:\tlearn: 0.2448734\ttotal: 1.11s\tremaining: 26.1ms\n",
      "977:\tlearn: 0.2448191\ttotal: 1.11s\tremaining: 24.9ms\n",
      "978:\tlearn: 0.2447039\ttotal: 1.11s\tremaining: 23.8ms\n",
      "979:\tlearn: 0.2445593\ttotal: 1.11s\tremaining: 22.7ms\n",
      "980:\tlearn: 0.2444556\ttotal: 1.11s\tremaining: 21.5ms\n",
      "981:\tlearn: 0.2444168\ttotal: 1.11s\tremaining: 20.4ms\n",
      "982:\tlearn: 0.2443180\ttotal: 1.11s\tremaining: 19.3ms\n",
      "983:\tlearn: 0.2441368\ttotal: 1.11s\tremaining: 18.1ms\n",
      "984:\tlearn: 0.2439908\ttotal: 1.12s\tremaining: 17ms\n",
      "985:\tlearn: 0.2438830\ttotal: 1.12s\tremaining: 15.9ms\n",
      "986:\tlearn: 0.2437912\ttotal: 1.12s\tremaining: 14.8ms\n",
      "987:\tlearn: 0.2436732\ttotal: 1.12s\tremaining: 13.6ms\n",
      "988:\tlearn: 0.2435079\ttotal: 1.12s\tremaining: 12.5ms\n",
      "989:\tlearn: 0.2434242\ttotal: 1.12s\tremaining: 11.4ms\n",
      "990:\tlearn: 0.2432356\ttotal: 1.13s\tremaining: 10.2ms\n",
      "991:\tlearn: 0.2431715\ttotal: 1.13s\tremaining: 9.08ms\n",
      "992:\tlearn: 0.2430858\ttotal: 1.13s\tremaining: 7.95ms\n",
      "993:\tlearn: 0.2429574\ttotal: 1.13s\tremaining: 6.81ms\n",
      "994:\tlearn: 0.2427844\ttotal: 1.13s\tremaining: 5.68ms\n",
      "995:\tlearn: 0.2426956\ttotal: 1.13s\tremaining: 4.54ms\n",
      "996:\tlearn: 0.2425915\ttotal: 1.13s\tremaining: 3.41ms\n",
      "997:\tlearn: 0.2425367\ttotal: 1.13s\tremaining: 2.27ms\n",
      "998:\tlearn: 0.2424998\ttotal: 1.13s\tremaining: 1.14ms\n",
      "999:\tlearn: 0.2423646\ttotal: 1.14s\tremaining: 0us\n"
     ]
    },
    {
     "data": {
      "text/plain": [
       "<catboost.core.CatBoostClassifier at 0x1e00f13c0d0>"
      ]
     },
     "execution_count": 362,
     "metadata": {},
     "output_type": "execute_result"
    }
   ],
   "source": [
    "model_cbc = ctb.CatBoostClassifier()\n",
    "model_cbc.fit(X_train, y_train)"
   ]
  },
  {
   "cell_type": "code",
   "execution_count": 363,
   "id": "3991dd5b",
   "metadata": {},
   "outputs": [],
   "source": [
    "expected_y = y_test"
   ]
  },
  {
   "cell_type": "code",
   "execution_count": 364,
   "id": "ecaee631",
   "metadata": {},
   "outputs": [],
   "source": [
    "predicted_y = model_cbc.predict(X_test)"
   ]
  },
  {
   "cell_type": "code",
   "execution_count": 365,
   "id": "76228630",
   "metadata": {
    "scrolled": true
   },
   "outputs": [
    {
     "name": "stdout",
     "output_type": "stream",
     "text": [
      "              precision    recall  f1-score   support\n",
      "\n",
      "           0       0.82      0.88      0.85       169\n",
      "           1       0.76      0.67      0.71        99\n",
      "\n",
      "    accuracy                           0.80       268\n",
      "   macro avg       0.79      0.77      0.78       268\n",
      "weighted avg       0.80      0.80      0.80       268\n",
      "\n",
      "[[148  21]\n",
      " [ 33  66]]\n"
     ]
    }
   ],
   "source": [
    "print(metrics.classification_report(expected_y, predicted_y))\n",
    "print(metrics.confusion_matrix(expected_y, predicted_y))"
   ]
  },
  {
   "cell_type": "code",
   "execution_count": 366,
   "id": "d9acb1e0",
   "metadata": {},
   "outputs": [],
   "source": [
    "results_y = model_cbc.predict(test)"
   ]
  },
  {
   "cell_type": "code",
   "execution_count": 367,
   "id": "d2316c32",
   "metadata": {
    "scrolled": true
   },
   "outputs": [
    {
     "data": {
      "text/plain": [
       "418"
      ]
     },
     "execution_count": 367,
     "metadata": {},
     "output_type": "execute_result"
    }
   ],
   "source": [
    "len(results_y)"
   ]
  },
  {
   "cell_type": "code",
   "execution_count": 368,
   "id": "65399d9f",
   "metadata": {},
   "outputs": [],
   "source": [
    "final_results = pd.concat([pd.DataFrame(final_results), pd.DataFrame(results_y)], axis=1)"
   ]
  },
  {
   "cell_type": "code",
   "execution_count": 413,
   "id": "b3ea3b2d",
   "metadata": {},
   "outputs": [],
   "source": [
    "final_results = final_results.set_axis([\"PassengerId\", \"Survived\"], axis=1)"
   ]
  },
  {
   "cell_type": "code",
   "execution_count": 415,
   "id": "3ad96450",
   "metadata": {},
   "outputs": [
    {
     "data": {
      "text/html": [
       "<div>\n",
       "<style scoped>\n",
       "    .dataframe tbody tr th:only-of-type {\n",
       "        vertical-align: middle;\n",
       "    }\n",
       "\n",
       "    .dataframe tbody tr th {\n",
       "        vertical-align: top;\n",
       "    }\n",
       "\n",
       "    .dataframe thead th {\n",
       "        text-align: right;\n",
       "    }\n",
       "</style>\n",
       "<table border=\"1\" class=\"dataframe\">\n",
       "  <thead>\n",
       "    <tr style=\"text-align: right;\">\n",
       "      <th></th>\n",
       "      <th>PassengerId</th>\n",
       "      <th>Survived</th>\n",
       "    </tr>\n",
       "  </thead>\n",
       "  <tbody>\n",
       "    <tr>\n",
       "      <th>0</th>\n",
       "      <td>892</td>\n",
       "      <td>0</td>\n",
       "    </tr>\n",
       "    <tr>\n",
       "      <th>1</th>\n",
       "      <td>893</td>\n",
       "      <td>0</td>\n",
       "    </tr>\n",
       "    <tr>\n",
       "      <th>2</th>\n",
       "      <td>894</td>\n",
       "      <td>0</td>\n",
       "    </tr>\n",
       "    <tr>\n",
       "      <th>3</th>\n",
       "      <td>895</td>\n",
       "      <td>0</td>\n",
       "    </tr>\n",
       "    <tr>\n",
       "      <th>4</th>\n",
       "      <td>896</td>\n",
       "      <td>0</td>\n",
       "    </tr>\n",
       "  </tbody>\n",
       "</table>\n",
       "</div>"
      ],
      "text/plain": [
       "   PassengerId  Survived\n",
       "0          892         0\n",
       "1          893         0\n",
       "2          894         0\n",
       "3          895         0\n",
       "4          896         0"
      ]
     },
     "execution_count": 415,
     "metadata": {},
     "output_type": "execute_result"
    }
   ],
   "source": [
    "final_results = final_results.reset_index(drop=True)\n",
    "final_results.head()"
   ]
  },
  {
   "cell_type": "markdown",
   "id": "08f21c33",
   "metadata": {},
   "source": [
    "<!-- np.savetxt(\"prediction.csv\", final_results, header=\"PassengerId, Survived\",delimiter=\",\", fmt=\"%d\", comments=\"\") -->"
   ]
  },
  {
   "cell_type": "code",
   "execution_count": 427,
   "id": "c59ed89f",
   "metadata": {},
   "outputs": [],
   "source": [
    "final_results.to_csv(\"prediction.csv\", index=False)"
   ]
  },
  {
   "cell_type": "code",
   "execution_count": 429,
   "id": "ca9eebcb",
   "metadata": {
    "scrolled": true
   },
   "outputs": [
    {
     "data": {
      "text/html": [
       "<div>\n",
       "<style scoped>\n",
       "    .dataframe tbody tr th:only-of-type {\n",
       "        vertical-align: middle;\n",
       "    }\n",
       "\n",
       "    .dataframe tbody tr th {\n",
       "        vertical-align: top;\n",
       "    }\n",
       "\n",
       "    .dataframe thead th {\n",
       "        text-align: right;\n",
       "    }\n",
       "</style>\n",
       "<table border=\"1\" class=\"dataframe\">\n",
       "  <thead>\n",
       "    <tr style=\"text-align: right;\">\n",
       "      <th></th>\n",
       "      <th>PassengerId</th>\n",
       "      <th>Survived</th>\n",
       "    </tr>\n",
       "  </thead>\n",
       "  <tbody>\n",
       "    <tr>\n",
       "      <th>0</th>\n",
       "      <td>892</td>\n",
       "      <td>0</td>\n",
       "    </tr>\n",
       "    <tr>\n",
       "      <th>1</th>\n",
       "      <td>893</td>\n",
       "      <td>0</td>\n",
       "    </tr>\n",
       "    <tr>\n",
       "      <th>2</th>\n",
       "      <td>894</td>\n",
       "      <td>0</td>\n",
       "    </tr>\n",
       "    <tr>\n",
       "      <th>3</th>\n",
       "      <td>895</td>\n",
       "      <td>0</td>\n",
       "    </tr>\n",
       "    <tr>\n",
       "      <th>4</th>\n",
       "      <td>896</td>\n",
       "      <td>0</td>\n",
       "    </tr>\n",
       "  </tbody>\n",
       "</table>\n",
       "</div>"
      ],
      "text/plain": [
       "   PassengerId  Survived\n",
       "0          892         0\n",
       "1          893         0\n",
       "2          894         0\n",
       "3          895         0\n",
       "4          896         0"
      ]
     },
     "execution_count": 429,
     "metadata": {},
     "output_type": "execute_result"
    }
   ],
   "source": [
    "p = pd.read_csv(\"prediction.csv\")\n",
    "p.head()"
   ]
  },
  {
   "cell_type": "code",
   "execution_count": null,
   "id": "4c2df036",
   "metadata": {},
   "outputs": [],
   "source": [
    "# Basic EDA and CatBoost Classifier for the Titanic competition."
   ]
  }
 ],
 "metadata": {
  "kernelspec": {
   "display_name": "Python 3 (ipykernel)",
   "language": "python",
   "name": "python3"
  },
  "language_info": {
   "codemirror_mode": {
    "name": "ipython",
    "version": 3
   },
   "file_extension": ".py",
   "mimetype": "text/x-python",
   "name": "python",
   "nbconvert_exporter": "python",
   "pygments_lexer": "ipython3",
   "version": "3.9.7"
  }
 },
 "nbformat": 4,
 "nbformat_minor": 5
}
